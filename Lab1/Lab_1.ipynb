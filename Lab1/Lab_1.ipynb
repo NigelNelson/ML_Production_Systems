{
 "cells": [
  {
   "cell_type": "markdown",
   "id": "38184463",
   "metadata": {},
   "source": [
    "# Project 1: Email Classifier\n",
    "## Authors: Nigel Nelson, Collin Quinn\n",
    "---\n"
   ]
  },
  {
   "cell_type": "code",
   "execution_count": 222,
   "id": "1d62b7e1",
   "metadata": {},
   "outputs": [],
   "source": [
    "import json\n",
    "import glob\n",
    "import os\n",
    "import pandas as pd\n",
    "from sklearn.feature_extraction.text import CountVectorizer\n",
    "from scipy.sparse import csr_matrix\n",
    "from sklearn.naive_bayes import MultinomialNB\n",
    "from sklearn.model_selection import train_test_split\n",
    "import numpy as np\n",
    "from sklearn.metrics import accuracy_score, precision_score, recall_score, f1_score, plot_roc_curve\n",
    "from scipy import sparse\n",
    "from sklearn.neural_network import MLPClassifier\n",
    "from sklearn.model_selection import KFold\n",
    "from sklearn.metrics import RocCurveDisplay\n",
    "import matplotlib.pyplot as plt"
   ]
  },
  {
   "cell_type": "markdown",
   "id": "6a1ef9db",
   "metadata": {},
   "source": [
    "## Part 1: Loading The Data:"
   ]
  },
  {
   "cell_type": "code",
   "execution_count": 160,
   "id": "523ed55b",
   "metadata": {},
   "outputs": [],
   "source": [
    "email_dicts = []\n",
    "json_dir_name = './email_json_dataset1'\n",
    "json_pattern = os.path.join(json_dir_name, '*.json')\n",
    "file_list = glob.glob(json_pattern)\n",
    "for file in file_list:\n",
    "    with open(file) as json_file:\n",
    "        dict_data = json.load(json_file)\n",
    "        email_dicts.append(dict_data)"
   ]
  },
  {
   "cell_type": "code",
   "execution_count": 161,
   "id": "ac0c53dd",
   "metadata": {},
   "outputs": [],
   "source": [
    "email_df = pd.DataFrame.from_dict(email_dicts)"
   ]
  },
  {
   "cell_type": "code",
   "execution_count": 162,
   "id": "c4007cfb",
   "metadata": {},
   "outputs": [
    {
     "data": {
      "text/html": [
       "<div>\n",
       "<style scoped>\n",
       "    .dataframe tbody tr th:only-of-type {\n",
       "        vertical-align: middle;\n",
       "    }\n",
       "\n",
       "    .dataframe tbody tr th {\n",
       "        vertical-align: top;\n",
       "    }\n",
       "\n",
       "    .dataframe thead th {\n",
       "        text-align: right;\n",
       "    }\n",
       "</style>\n",
       "<table border=\"1\" class=\"dataframe\">\n",
       "  <thead>\n",
       "    <tr style=\"text-align: right;\">\n",
       "      <th></th>\n",
       "      <th>label</th>\n",
       "      <th>to_address</th>\n",
       "      <th>from_address</th>\n",
       "      <th>subject</th>\n",
       "      <th>body</th>\n",
       "    </tr>\n",
       "  </thead>\n",
       "  <tbody>\n",
       "    <tr>\n",
       "      <th>0</th>\n",
       "      <td>spam</td>\n",
       "      <td>&lt;manager@flax9.uwaterloo.ca&gt;</td>\n",
       "      <td>\"Barry Earl\" &lt;Langmuir'sascetic@lobbyist.com&gt;</td>\n",
       "      <td>Some useful advices for your health</td>\n",
       "      <td>\\n\\n\\n\\n\\n\\n\\n\\nDear customer.\\nWanna know how...</td>\n",
       "    </tr>\n",
       "    <tr>\n",
       "      <th>1</th>\n",
       "      <td>spam</td>\n",
       "      <td>smile@speedy.uwaterloo.ca</td>\n",
       "      <td>%CUST_WORD %MID_WORD &lt;FlorieTaft0887@yahoo.com&gt;</td>\n",
       "      <td>$oftware taking a bite out of your budget? Try...</td>\n",
       "      <td>\\n\\n\\n\\n\\n\\n\\n\\n\\n\\n\\n\\n\\nLove works a differe...</td>\n",
       "    </tr>\n",
       "    <tr>\n",
       "      <th>2</th>\n",
       "      <td>ham</td>\n",
       "      <td>Perl 6 announce list &lt;perl6-announce@perl.org&gt;</td>\n",
       "      <td>Ann Barcomb &lt;kudra@domaintje.com&gt;</td>\n",
       "      <td>Weekly Perl 6 mailing list summary for 08-14 A...</td>\n",
       "      <td></td>\n",
       "    </tr>\n",
       "    <tr>\n",
       "      <th>3</th>\n",
       "      <td>ham</td>\n",
       "      <td>samba-cvs@samba.org</td>\n",
       "      <td>jerry@samba.org</td>\n",
       "      <td>svn commit: samba r22510 - in branches/SAMBA_3...</td>\n",
       "      <td>Author: jerry\\nDate: 2007-04-25 09:36:47 +0000...</td>\n",
       "    </tr>\n",
       "    <tr>\n",
       "      <th>4</th>\n",
       "      <td>spam</td>\n",
       "      <td>theorize@plg.uwaterloo.ca</td>\n",
       "      <td>\"Eli Kirby\" &lt;Ethansulfursalesgirl@iscs.co.kr&gt;</td>\n",
       "      <td>evil</td>\n",
       "      <td>Finding rates low enough to suit is never an e...</td>\n",
       "    </tr>\n",
       "  </tbody>\n",
       "</table>\n",
       "</div>"
      ],
      "text/plain": [
       "  label                                      to_address  \\\n",
       "0  spam                    <manager@flax9.uwaterloo.ca>   \n",
       "1  spam                       smile@speedy.uwaterloo.ca   \n",
       "2   ham  Perl 6 announce list <perl6-announce@perl.org>   \n",
       "3   ham                             samba-cvs@samba.org   \n",
       "4  spam                       theorize@plg.uwaterloo.ca   \n",
       "\n",
       "                                      from_address  \\\n",
       "0    \"Barry Earl\" <Langmuir'sascetic@lobbyist.com>   \n",
       "1  %CUST_WORD %MID_WORD <FlorieTaft0887@yahoo.com>   \n",
       "2                Ann Barcomb <kudra@domaintje.com>   \n",
       "3                                  jerry@samba.org   \n",
       "4    \"Eli Kirby\" <Ethansulfursalesgirl@iscs.co.kr>   \n",
       "\n",
       "                                             subject  \\\n",
       "0                Some useful advices for your health   \n",
       "1  $oftware taking a bite out of your budget? Try...   \n",
       "2  Weekly Perl 6 mailing list summary for 08-14 A...   \n",
       "3  svn commit: samba r22510 - in branches/SAMBA_3...   \n",
       "4                                               evil   \n",
       "\n",
       "                                                body  \n",
       "0  \\n\\n\\n\\n\\n\\n\\n\\nDear customer.\\nWanna know how...  \n",
       "1  \\n\\n\\n\\n\\n\\n\\n\\n\\n\\n\\n\\n\\nLove works a differe...  \n",
       "2                                                     \n",
       "3  Author: jerry\\nDate: 2007-04-25 09:36:47 +0000...  \n",
       "4  Finding rates low enough to suit is never an e...  "
      ]
     },
     "execution_count": 162,
     "metadata": {},
     "output_type": "execute_result"
    }
   ],
   "source": [
    "email_df['label'] = email_df['label'].astype('category')\n",
    "email_df.head()"
   ]
  },
  {
   "cell_type": "code",
   "execution_count": 163,
   "id": "8e875489",
   "metadata": {},
   "outputs": [
    {
     "name": "stdout",
     "output_type": "stream",
     "text": [
      "<class 'pandas.core.frame.DataFrame'>\n",
      "RangeIndex: 63542 entries, 0 to 63541\n",
      "Data columns (total 5 columns):\n",
      " #   Column        Non-Null Count  Dtype   \n",
      "---  ------        --------------  -----   \n",
      " 0   label         63542 non-null  category\n",
      " 1   to_address    63141 non-null  object  \n",
      " 2   from_address  63542 non-null  object  \n",
      " 3   subject       63410 non-null  object  \n",
      " 4   body          63542 non-null  object  \n",
      "dtypes: category(1), object(4)\n",
      "memory usage: 2.0+ MB\n"
     ]
    }
   ],
   "source": [
    "email_df.info()"
   ]
  },
  {
   "cell_type": "code",
   "execution_count": 164,
   "id": "d91d5279",
   "metadata": {},
   "outputs": [
    {
     "data": {
      "text/plain": [
       "spam    40450\n",
       "ham     23092\n",
       "Name: label, dtype: int64"
      ]
     },
     "execution_count": 164,
     "metadata": {},
     "output_type": "execute_result"
    }
   ],
   "source": [
    "email_df['label'].value_counts()"
   ]
  },
  {
   "cell_type": "markdown",
   "id": "e8924dc8",
   "metadata": {},
   "source": [
    "## Part 2: Extracting Features"
   ]
  },
  {
   "cell_type": "code",
   "execution_count": 111,
   "id": "5ca44173",
   "metadata": {},
   "outputs": [],
   "source": [
    "desired_count = email_df['label'].value_counts().min()\n",
    "mask = email_df.groupby('label')['label'].transform('size') >= desired_count\n",
    "email_df = pd.concat((email_df[mask].groupby('label').sample(n=desired_count), email_df[~mask]), ignore_index=True)"
   ]
  },
  {
   "cell_type": "code",
   "execution_count": 187,
   "id": "d60cd9db",
   "metadata": {},
   "outputs": [],
   "source": [
    "vectorizer = CountVectorizer(min_df=10)\n",
    "alphanum_feat_matrix = vectorizer.fit_transform(email_df['body'])"
   ]
  },
  {
   "cell_type": "code",
   "execution_count": 188,
   "id": "cd2149c3",
   "metadata": {},
   "outputs": [],
   "source": [
    "def get_alpha_mask(vectorizer):\n",
    "    alpha_mask = []\n",
    "    for word, count in vectorizer.vocabulary_.items():\n",
    "        if word.isalpha():\n",
    "            alpha_mask.append(True)\n",
    "        else:\n",
    "            alpha_mask.append(False)\n",
    "    return alpha_mask"
   ]
  },
  {
   "cell_type": "code",
   "execution_count": 191,
   "id": "b0e54acc",
   "metadata": {},
   "outputs": [],
   "source": [
    "dense = alphanum_feat_matrix.todense()\n",
    "alpha_mask = get_alpha_mask(vectorizer)\n",
    "dense_alpha = dense[:,alpha_mask]\n",
    "alpha_feat_matrix = sparse.csr_matrix(dense_alpha)"
   ]
  },
  {
   "cell_type": "code",
   "execution_count": 192,
   "id": "9cf1bc4a",
   "metadata": {},
   "outputs": [
    {
     "name": "stdout",
     "output_type": "stream",
     "text": [
      "Alphanumeric feature matrix # columns: 32144\n",
      "Alphanumeric feature matrix # rows: 63542\n",
      "Alphanumeric feature matrix # nonzero entries: 6388757\n",
      "\n",
      "Alpha feature matrix # columns: 27159\n",
      "Alpha feature matrix # rows: 63542\n",
      "Alpha feature matrix # nonzero entries: 5326922\n",
      "\n"
     ]
    }
   ],
   "source": [
    "print(f'Alphanumeric feature matrix # columns: {alphanum_feat_matrix.shape[1]}')\n",
    "print(f'Alphanumeric feature matrix # rows: {alphanum_feat_matrix.shape[0]}')\n",
    "print(f'Alphanumeric feature matrix # nonzero entries: {csr_matrix.count_nonzero(alphanum_feat_matrix)}\\n')\n",
    "\n",
    "print(f'Alpha feature matrix # columns: {alpha_feat_matrix.shape[1]}')\n",
    "print(f'Alpha feature matrix # rows: {alpha_feat_matrix.shape[0]}')\n",
    "print(f'Alpha feature matrix # nonzero entries: {csr_matrix.count_nonzero(alpha_feat_matrix)}\\n')"
   ]
  },
  {
   "cell_type": "markdown",
   "id": "30e507b2",
   "metadata": {},
   "source": [
    "## Part 3: Creating & Evaluating Simple Classifier"
   ]
  },
  {
   "cell_type": "code",
   "execution_count": 179,
   "id": "7a507b19",
   "metadata": {},
   "outputs": [],
   "source": [
    "X_train, X_test, y_train, y_test = train_test_split(\n",
    "    alphanum_feat_matrix, email_df['label'].to_numpy(), test_size=0.25, random_state=17)"
   ]
  },
  {
   "cell_type": "code",
   "execution_count": 202,
   "id": "4cc0f539",
   "metadata": {},
   "outputs": [],
   "source": [
    "accuracies = []\n",
    "precisions = []\n",
    "recalls = []\n",
    "\n",
    "kf = KFold(n_splits=4, shuffle=True, random_state=17)\n",
    "y = email_df['label'].to_numpy()\n",
    "for train_index, test_index in kf.split(y):\n",
    "    X_train, X_test = alphanum_feat_matrix[train_index, :], alphanum_feat_matrix[test_index, :]\n",
    "    y_train, y_test = y[train_index], y[test_index]\n",
    "    \n",
    "    naive_bayes = MultinomialNB()\n",
    "    naive_bayes.fit(X_train , y_train)\n",
    "    predictions = naive_bayes.predict(X_test)\n",
    "    \n",
    "    accuracies.append(accuracy_score(predictions, y_test))\n",
    "    recalls.append(recall_score(predictions, y_test, pos_label=\"spam\"))\n",
    "    precisions.append(precision_score(predictions, y_test, pos_label=\"spam\"))"
   ]
  },
  {
   "cell_type": "code",
   "execution_count": 205,
   "id": "3b846b7b",
   "metadata": {},
   "outputs": [],
   "source": [
    "avg_accuracy = sum(accuracies) / 4\n",
    "avg_recall = sum(recalls) / 4\n",
    "avg_precision = sum(precisions) / 4"
   ]
  },
  {
   "cell_type": "code",
   "execution_count": 209,
   "id": "dc84aad1",
   "metadata": {},
   "outputs": [
    {
     "name": "stdout",
     "output_type": "stream",
     "text": [
      "Average accuracy score:  0.9486009302747292\n",
      "Average recall score:  0.956847769043517\n",
      "Average precision score:  0.9626789119071488\n"
     ]
    }
   ],
   "source": [
    "print(\"Average accuracy score: \", avg_accuracy)\n",
    "print(\"Average recall score: \", avg_recall)\n",
    "print(\"Average precision score: \", avg_precision)"
   ]
  },
  {
   "cell_type": "code",
   "execution_count": 223,
   "id": "f3f40346",
   "metadata": {},
   "outputs": [
    {
     "data": {
      "image/png": "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\n",
      "text/plain": [
       "<Figure size 432x288 with 1 Axes>"
      ]
     },
     "metadata": {
      "needs_background": "light"
     },
     "output_type": "display_data"
    }
   ],
   "source": [
    "plot_roc_curve(naive_bayes, X_test, y_test) \n",
    "plt.show()"
   ]
  },
  {
   "cell_type": "code",
   "execution_count": null,
   "id": "484b275b",
   "metadata": {},
   "outputs": [],
   "source": [
    "X_train, X_test, y_train, y_test = train_test_split(\n",
    "    alphanum_feat_matrix, email_df['label'].to_numpy(), test_size=0.25, random_state=42)"
   ]
  },
  {
   "cell_type": "code",
   "execution_count": 54,
   "id": "662d6359",
   "metadata": {},
   "outputs": [
    {
     "data": {
      "text/plain": [
       "array([1, 1, 1, ..., 2, 1, 1])"
      ]
     },
     "execution_count": 54,
     "metadata": {},
     "output_type": "execute_result"
    }
   ],
   "source": [
    "feat_matrix.data"
   ]
  },
  {
   "cell_type": "code",
   "execution_count": 140,
   "id": "52fcfcd0",
   "metadata": {},
   "outputs": [
    {
     "name": "stderr",
     "output_type": "stream",
     "text": [
      "/usr/local/lib/python3.8/dist-packages/sklearn/neural_network/_multilayer_perceptron.py:614: ConvergenceWarning: Stochastic Optimizer: Maximum iterations (10) reached and the optimization hasn't converged yet.\n",
      "  warnings.warn(\n"
     ]
    }
   ],
   "source": [
    "clf = MLPClassifier(random_state=1, max_iter=10, early_stopping=True).fit(X_train, y_train)"
   ]
  },
  {
   "cell_type": "code",
   "execution_count": 145,
   "id": "0ea86767",
   "metadata": {},
   "outputs": [],
   "source": [
    "predictions = clf.predict(X_test)"
   ]
  },
  {
   "cell_type": "code",
   "execution_count": null,
   "id": "eee63264",
   "metadata": {},
   "outputs": [],
   "source": [
    "\n",
    "\n",
    "\n",
    "\n",
    "\n",
    "\n",
    "\n",
    "\n",
    "\n",
    "\n",
    "\n",
    "\n",
    "\n",
    "\n",
    "\n",
    "\n",
    "\n",
    "\n",
    "\n",
    "\n",
    "\n",
    "\n",
    "\n",
    "\n",
    "\n",
    "\n",
    "\n",
    "\n",
    "\n",
    "\n",
    "\n",
    "\n"
   ]
  }
 ],
 "metadata": {
  "kernelspec": {
   "display_name": "Python 3 (ipykernel)",
   "language": "python",
   "name": "python3"
  },
  "language_info": {
   "codemirror_mode": {
    "name": "ipython",
    "version": 3
   },
   "file_extension": ".py",
   "mimetype": "text/x-python",
   "name": "python",
   "nbconvert_exporter": "python",
   "pygments_lexer": "ipython3",
   "version": "3.8.10"
  }
 },
 "nbformat": 4,
 "nbformat_minor": 5
}
                                                                                                                                                                                                                                                                                                                                                                                                                                                                                                                                                                                                                                                         HIgRkTXAvcD/zrFOM2CViKzAnY2/rar7cQfK8SKyGteNVM2fL1TV5bixh8W4MYcPVXUFUBtY7OnSGQgMPsfHRwOrkwefzzALdxOlH9XdkhJcIlsPLBd3U/f3SadF74llNe5mNK8DQzy/u+/n5gA1kgefcS2LCz2xrfO8NiYFm65qjDEmBWsxGGOMScESgzHGmBQsMRhjjEnBEoMxxpgULDEYY4xJwRKDMcaYFCwxGGOMSeH/ARxpH5w5u9S0AAAAAElFTkSuQmCC\n",
      "text/plain": [
       "<Figure size 432x288 with 1 Axes>"
      ]
     },
     "metadata": {
      "needs_background": "light"
     },
     "output_type": "display_data"
    }
   ],
   "source": [
    "plt.plot(base_fpr,\n",
    "         mean_tprs,\n",
    "         'b',\n",
    "         label=f\"Mean ROC (AUC ={mean_auc})\")\n",
    "\n",
    "plt.plot([0, 1], [0, 1],'r--')\n",
    "plt.xlim([-0.01, 1.01])\n",
    "plt.ylim([-0.01, 1.01])\n",
    "plt.ylabel('True Positive Rate')\n",
    "plt.xlabel('False Positive Rate')\n",
    "plt.legend()\n",
    "plt.show()"
   ]
  },
  {
   "cell_type": "code",
   "execution_count": 30,
   "id": "4cc0f539",
   "metadata": {},
   "outputs": [
    {
     "ename": "KeyboardInterrupt",
     "evalue": "",
     "output_type": "error",
     "traceback": [
      "\u001b[0;31m---------------------------------------------------------------------------\u001b[0m",
      "\u001b[0;31mKeyboardInterrupt\u001b[0m                         Traceback (most recent call last)",
      "Input \u001b[0;32mIn [30]\u001b[0m, in \u001b[0;36m<cell line: 10>\u001b[0;34m()\u001b[0m\n\u001b[1;32m     12\u001b[0m y_train, y_test \u001b[38;5;241m=\u001b[39m y[train_index], y[test_index]\n\u001b[1;32m     14\u001b[0m naive_bayes \u001b[38;5;241m=\u001b[39m SVC(probability\u001b[38;5;241m=\u001b[39m\u001b[38;5;28;01mTrue\u001b[39;00m)\n\u001b[0;32m---> 15\u001b[0m \u001b[43mnaive_bayes\u001b[49m\u001b[38;5;241;43m.\u001b[39;49m\u001b[43mfit\u001b[49m\u001b[43m(\u001b[49m\u001b[43mX_train\u001b[49m\u001b[43m \u001b[49m\u001b[43m,\u001b[49m\u001b[43m \u001b[49m\u001b[43my_train\u001b[49m\u001b[43m)\u001b[49m\n\u001b[1;32m     16\u001b[0m predictions \u001b[38;5;241m=\u001b[39m naive_bayes\u001b[38;5;241m.\u001b[39mpredict(X_test)\n\u001b[1;32m     18\u001b[0m y_score \u001b[38;5;241m=\u001b[39m naive_bayes\u001b[38;5;241m.\u001b[39mpredict_proba(X_test)\n",
      "File \u001b[0;32m/usr/local/lib/python3.8/dist-packages/sklearn/svm/_base.py:226\u001b[0m, in \u001b[0;36mBaseLibSVM.fit\u001b[0;34m(self, X, y, sample_weight)\u001b[0m\n\u001b[1;32m    223\u001b[0m     \u001b[38;5;28mprint\u001b[39m(\u001b[38;5;124m'\u001b[39m\u001b[38;5;124m[LibSVM]\u001b[39m\u001b[38;5;124m'\u001b[39m, end\u001b[38;5;241m=\u001b[39m\u001b[38;5;124m'\u001b[39m\u001b[38;5;124m'\u001b[39m)\n\u001b[1;32m    225\u001b[0m seed \u001b[38;5;241m=\u001b[39m rnd\u001b[38;5;241m.\u001b[39mrandint(np\u001b[38;5;241m.\u001b[39miinfo(\u001b[38;5;124m'\u001b[39m\u001b[38;5;124mi\u001b[39m\u001b[38;5;124m'\u001b[39m)\u001b[38;5;241m.\u001b[39mmax)\n\u001b[0;32m--> 226\u001b[0m \u001b[43mfit\u001b[49m\u001b[43m(\u001b[49m\u001b[43mX\u001b[49m\u001b[43m,\u001b[49m\u001b[43m \u001b[49m\u001b[43my\u001b[49m\u001b[43m,\u001b[49m\u001b[43m \u001b[49m\u001b[43msample_weight\u001b[49m\u001b[43m,\u001b[49m\u001b[43m \u001b[49m\u001b[43msolver_type\u001b[49m\u001b[43m,\u001b[49m\u001b[43m \u001b[49m\u001b[43mkernel\u001b[49m\u001b[43m,\u001b[49m\u001b[43m \u001b[49m\u001b[43mrandom_seed\u001b[49m\u001b[38;5;241;43m=\u001b[39;49m\u001b[43mseed\u001b[49m\u001b[43m)\u001b[49m\n\u001b[1;32m    227\u001b[0m \u001b[38;5;66;03m# see comment on the other call to np.iinfo in this file\u001b[39;00m\n\u001b[1;32m    229\u001b[0m \u001b[38;5;28mself\u001b[39m\u001b[38;5;241m.\u001b[39mshape_fit_ \u001b[38;5;241m=\u001b[39m X\u001b[38;5;241m.\u001b[39mshape \u001b[38;5;28;01mif\u001b[39;00m \u001b[38;5;28mhasattr\u001b[39m(X, \u001b[38;5;124m\"\u001b[39m\u001b[38;5;124mshape\u001b[39m\u001b[38;5;124m\"\u001b[39m) \u001b[38;5;28;01melse\u001b[39;00m (n_samples, )\n",
      "File \u001b[0;32m/usr/local/lib/python3.8/dist-packages/sklearn/svm/_base.py:301\u001b[0m, in \u001b[0;36mBaseLibSVM._sparse_fit\u001b[0;34m(self, X, y, sample_weight, solver_type, kernel, random_seed)\u001b[0m\n\u001b[1;32m    294\u001b[0m kernel_type \u001b[38;5;241m=\u001b[39m \u001b[38;5;28mself\u001b[39m\u001b[38;5;241m.\u001b[39m_sparse_kernels\u001b[38;5;241m.\u001b[39mindex(kernel)\n\u001b[1;32m    296\u001b[0m libsvm_sparse\u001b[38;5;241m.\u001b[39mset_verbosity_wrap(\u001b[38;5;28mself\u001b[39m\u001b[38;5;241m.\u001b[39mverbose)\n\u001b[1;32m    298\u001b[0m \u001b[38;5;28mself\u001b[39m\u001b[38;5;241m.\u001b[39msupport_, \u001b[38;5;28mself\u001b[39m\u001b[38;5;241m.\u001b[39msupport_vectors_, dual_coef_data, \\\n\u001b[1;32m    299\u001b[0m     \u001b[38;5;28mself\u001b[39m\u001b[38;5;241m.\u001b[39mintercept_, \u001b[38;5;28mself\u001b[39m\u001b[38;5;241m.\u001b[39m_n_support, \\\n\u001b[1;32m    300\u001b[0m     \u001b[38;5;28mself\u001b[39m\u001b[38;5;241m.\u001b[39m_probA, \u001b[38;5;28mself\u001b[39m\u001b[38;5;241m.\u001b[39m_probB, \u001b[38;5;28mself\u001b[39m\u001b[38;5;241m.\u001b[39mfit_status_ \u001b[38;5;241m=\u001b[39m \\\n\u001b[0;32m--> 301\u001b[0m     \u001b[43mlibsvm_sparse\u001b[49m\u001b[38;5;241;43m.\u001b[39;49m\u001b[43mlibsvm_sparse_train\u001b[49m\u001b[43m(\u001b[49m\n\u001b[1;32m    302\u001b[0m \u001b[43m        \u001b[49m\u001b[43mX\u001b[49m\u001b[38;5;241;43m.\u001b[39;49m\u001b[43mshape\u001b[49m\u001b[43m[\u001b[49m\u001b[38;5;241;43m1\u001b[39;49m\u001b[43m]\u001b[49m\u001b[43m,\u001b[49m\u001b[43m \u001b[49m\u001b[43mX\u001b[49m\u001b[38;5;241;43m.\u001b[39;49m\u001b[43mdata\u001b[49m\u001b[43m,\u001b[49m\u001b[43m \u001b[49m\u001b[43mX\u001b[49m\u001b[38;5;241;43m.\u001b[39;49m\u001b[43mindices\u001b[49m\u001b[43m,\u001b[49m\u001b[43m \u001b[49m\u001b[43mX\u001b[49m\u001b[38;5;241;43m.\u001b[39;49m\u001b[43mindptr\u001b[49m\u001b[43m,\u001b[49m\u001b[43m \u001b[49m\u001b[43my\u001b[49m\u001b[43m,\u001b[49m\u001b[43m \u001b[49m\u001b[43msolver_type\u001b[49m\u001b[43m,\u001b[49m\n\u001b[1;32m    303\u001b[0m \u001b[43m        \u001b[49m\u001b[43mkernel_type\u001b[49m\u001b[43m,\u001b[49m\u001b[43m \u001b[49m\u001b[38;5;28;43mself\u001b[39;49m\u001b[38;5;241;43m.\u001b[39;49m\u001b[43mdegree\u001b[49m\u001b[43m,\u001b[49m\u001b[43m \u001b[49m\u001b[38;5;28;43mself\u001b[39;49m\u001b[38;5;241;43m.\u001b[39;49m\u001b[43m_gamma\u001b[49m\u001b[43m,\u001b[49m\u001b[43m \u001b[49m\u001b[38;5;28;43mself\u001b[39;49m\u001b[38;5;241;43m.\u001b[39;49m\u001b[43mcoef0\u001b[49m\u001b[43m,\u001b[49m\u001b[43m \u001b[49m\u001b[38;5;28;43mself\u001b[39;49m\u001b[38;5;241;43m.\u001b[39;49m\u001b[43mtol\u001b[49m\u001b[43m,\u001b[49m\n\u001b[1;32m    304\u001b[0m \u001b[43m        \u001b[49m\u001b[38;5;28;43mself\u001b[39;49m\u001b[38;5;241;43m.\u001b[39;49m\u001b[43mC\u001b[49m\u001b[43m,\u001b[49m\u001b[43m \u001b[49m\u001b[38;5;28;43mself\u001b[39;49m\u001b[38;5;241;43m.\u001b[39;49m\u001b[43mclass_weight_\u001b[49m\u001b[43m,\u001b[49m\n\u001b[1;32m    305\u001b[0m \u001b[43m        \u001b[49m\u001b[43msample_weight\u001b[49m\u001b[43m,\u001b[49m\u001b[43m \u001b[49m\u001b[38;5;28;43mself\u001b[39;49m\u001b[38;5;241;43m.\u001b[39;49m\u001b[43mnu\u001b[49m\u001b[43m,\u001b[49m\u001b[43m \u001b[49m\u001b[38;5;28;43mself\u001b[39;49m\u001b[38;5;241;43m.\u001b[39;49m\u001b[43mcache_size\u001b[49m\u001b[43m,\u001b[49m\u001b[43m \u001b[49m\u001b[38;5;28;43mself\u001b[39;49m\u001b[38;5;241;43m.\u001b[39;49m\u001b[43mepsilon\u001b[49m\u001b[43m,\u001b[49m\n\u001b[1;32m    306\u001b[0m \u001b[43m        \u001b[49m\u001b[38;5;28;43mint\u001b[39;49m\u001b[43m(\u001b[49m\u001b[38;5;28;43mself\u001b[39;49m\u001b[38;5;241;43m.\u001b[39;49m\u001b[43mshrinking\u001b[49m\u001b[43m)\u001b[49m\u001b[43m,\u001b[49m\u001b[43m \u001b[49m\u001b[38;5;28;43mint\u001b[39;49m\u001b[43m(\u001b[49m\u001b[38;5;28;43mself\u001b[39;49m\u001b[38;5;241;43m.\u001b[39;49m\u001b[43mprobability\u001b[49m\u001b[43m)\u001b[49m\u001b[43m,\u001b[49m\u001b[43m \u001b[49m\u001b[38;5;28;43mself\u001b[39;49m\u001b[38;5;241;43m.\u001b[39;49m\u001b[43mmax_iter\u001b[49m\u001b[43m,\u001b[49m\n\u001b[1;32m    307\u001b[0m \u001b[43m        \u001b[49m\u001b[43mrandom_seed\u001b[49m\u001b[43m)\u001b[49m\n\u001b[1;32m    309\u001b[0m \u001b[38;5;28mself\u001b[39m\u001b[38;5;241m.\u001b[39m_warn_from_fit_status()\n\u001b[1;32m    311\u001b[0m \u001b[38;5;28;01mif\u001b[39;00m \u001b[38;5;28mhasattr\u001b[39m(\u001b[38;5;28mself\u001b[39m, \u001b[38;5;124m\"\u001b[39m\u001b[38;5;124mclasses_\u001b[39m\u001b[38;5;124m\"\u001b[39m):\n",
      "File \u001b[0;32msklearn/svm/_libsvm_sparse.pyx:191\u001b[0m, in \u001b[0;36msklearn.svm._libsvm_sparse.libsvm_sparse_train\u001b[0;34m()\u001b[0m\n",
      "File \u001b[0;32m/usr/local/lib/python3.8/dist-packages/scipy/sparse/compressed.py:30\u001b[0m, in \u001b[0;36m_cs_matrix.__init__\u001b[0;34m(self, arg1, shape, dtype, copy)\u001b[0m\n\u001b[1;32m     27\u001b[0m \u001b[38;5;28;01mclass\u001b[39;00m \u001b[38;5;21;01m_cs_matrix\u001b[39;00m(_data_matrix, _minmax_mixin, IndexMixin):\n\u001b[1;32m     28\u001b[0m     \u001b[38;5;124;03m\"\"\"base matrix class for compressed row and column oriented matrices\"\"\"\u001b[39;00m\n\u001b[0;32m---> 30\u001b[0m     \u001b[38;5;28;01mdef\u001b[39;00m \u001b[38;5;21m__init__\u001b[39m(\u001b[38;5;28mself\u001b[39m, arg1, shape\u001b[38;5;241m=\u001b[39m\u001b[38;5;28;01mNone\u001b[39;00m, dtype\u001b[38;5;241m=\u001b[39m\u001b[38;5;28;01mNone\u001b[39;00m, copy\u001b[38;5;241m=\u001b[39m\u001b[38;5;28;01mFalse\u001b[39;00m):\n\u001b[1;32m     31\u001b[0m         _data_matrix\u001b[38;5;241m.\u001b[39m\u001b[38;5;21m__init__\u001b[39m(\u001b[38;5;28mself\u001b[39m)\n\u001b[1;32m     33\u001b[0m         \u001b[38;5;28;01mif\u001b[39;00m isspmatrix(arg1):\n",
      "\u001b[0;31mKeyboardInterrupt\u001b[0m: "
     ]
    }
   ],
   "source": [
    "accuracies = []\n",
    "precisions = []\n",
    "recalls = []\n",
    "\n",
    "tprs = []\n",
    "base_fpr = np.linspace(0, 1, 101)\n",
    "\n",
    "kf = KFold(n_splits=4, shuffle=True, random_state=17)\n",
    "y = email_df['label'].to_numpy()\n",
    "for train_index, test_index in kf.split(y):\n",
    "    X_train, X_test = alphanum_feat_matrix[train_index, :], alphanum_feat_matrix[test_index, :]\n",
    "    y_train, y_test = y[train_index], y[test_index]\n",
    "    \n",
    "    naive_bayes = SVC(probability=True)\n",
    "    naive_bayes.fit(X_train , y_train)\n",
    "    predictions = naive_bayes.predict(X_test)\n",
    "    \n",
    "    y_score = naive_bayes.predict_proba(X_test)\n",
    "    fpr, tpr, _ = roc_curve(y_test, y_score[:, 1], pos_label=\"spam\")\n",
    "    tpr = np.interp(base_fpr, fpr, tpr)\n",
    "    tpr[0] = 0.0\n",
    "    tprs.append(tpr)\n",
    "    \n",
    "    accuracies.append(accuracy_score(predictions, y_test))\n",
    "    recalls.append(recall_score(predictions, y_test, pos_label=\"spam\"))\n",
    "    precisions.append(precision_score(predictions, y_test, pos_label=\"spam\"))\n",
    "\n",
    "tprs = np.array(tprs)\n",
    "mean_tprs = tprs.mean(axis=0)\n",
    "mean_auc = auc(base_fpr, mean_tprs)\n",
    "std = tprs.std(axis=0)\n",
    "\n",
    "tprs_upper = np.minimum(mean_tprs + std, 1)\n",
    "tprs_lower = mean_tprs - std"
   ]
  },
  {
   "cell_type": "code",
   "execution_count": null,
   "id": "484b275b",
   "metadata": {},
   "outputs": [],
   "source": [
    "X_train, X_test, y_train, y_test = train_test_split(\n",
    "    alphanum_feat_matrix, email_df['label'].to_numpy(), test_size=0.25, random_state=42)"
   ]
  },
  {
   "cell_type": "code",
   "execution_count": null,
   "id": "662d6359",
   "metadata": {},
   "outputs": [],
   "source": [
    "feat_matrix.data"
   ]
  },
  {
   "cell_type": "code",
   "execution_count": null,
   "id": "52fcfcd0",
   "metadata": {},
   "outputs": [],
   "source": [
    "clf = MLPClassifier(random_state=1, max_iter=10, early_stopping=True).fit(X_train, y_train)"
   ]
  },
  {
   "cell_type": "code",
   "execution_count": null,
   "id": "0ea86767",
   "metadata": {},
   "outputs": [],
   "source": [
    "predictions = clf.predict(X_test)"
   ]
  },
  {
   "cell_type": "code",
   "execution_count": null,
   "id": "eee63264",
   "metadata": {},
   "outputs": [],
   "source": [
    "\n",
    "\n",
    "\n",
    "\n",
    "\n",
    "\n",
    "\n",
    "\n",
    "\n",
    "\n",
    "\n",
    "\n",
    "\n",
    "\n",
    "\n",
    "\n",
    "\n",
    "\n",
    "\n",
    "\n",
    "\n",
    "\n",
    "\n",
    "\n",
    "\n",
    "\n",
    "\n",
    "\n",
    "\n",
    "\n",
    "\n",
    "\n"
   ]
  },
  {
   "cell_type": "code",
   "execution_count": 9,
   "id": "cd2149c3",
   "metadata": {},
   "outputs": [],
   "source": [
    "def get_alpha_mask(vectorizer):\n",
    "    alpha_mask = []\n",
    "    for word, count in vectorizer.vocabulary_.items():\n",
    "        if word.isalpha():\n",
    "            alpha_mask.append(True)\n",
    "        else:\n",
    "            alpha_mask.append(False)\n",
    "    return alpha_mask\n",
    "\n",
    "dense = alphanum_feat_matrix.todense()\n",
    "alpha_mask = get_alpha_mask(vectorizer)\n",
    "dense_alpha = dense[:,alpha_mask]\n",
    "alpha_feat_matrix = sparse.csr_matrix(dense_alpha)\n",
    "\n",
    "print(f'Alphanumeric feature matrix # columns: {alphanum_feat_matrix.shape[1]}')\n",
    "print(f'Alphanumeric feature matrix # rows: {alphanum_feat_matrix.shape[0]}')\n",
    "print(f'Alphanumeric feature matrix # nonzero entries: {csr_matrix.count_nonzero(alphanum_feat_matrix)}\\n')\n"
   ]
  }
 ],
 "metadata": {
  "kernelspec": {
   "display_name": "Python 3 (ipykernel)",
   "language": "python",
   "name": "python3"
  },
  "language_info": {
   "codemirror_mode": {
    "name": "ipython",
    "version": 3
   },
   "file_extension": ".py",
   "mimetype": "text/x-python",
   "name": "python",
   "nbconvert_exporter": "python",
   "pygments_lexer": "ipython3",
   "version": "3.8.10"
  }
 },
 "nbformat": 4,
 "nbformat_minor": 5
}
