{
 "cells": [
  {
   "cell_type": "markdown",
   "id": "38184463",
   "metadata": {},
   "source": [
    "# Project 1: Email Classifier\n",
    "## Authors: Nigel Nelson, Collin Quinn\n",
    "## Course: CS4981/031\n",
    "---\n",
    "### Imports:\n"
   ]
  },
  {
   "cell_type": "code",
   "execution_count": 1,
   "id": "1d62b7e1",
   "metadata": {},
   "outputs": [],
   "source": [
    "import json\n",
    "import glob\n",
    "import os\n",
    "import pandas as pd\n",
    "import numpy as np\n",
    "import matplotlib.pyplot as plt\n",
    "import matplotlib.pyplot as plt\n",
    "from sklearn.feature_extraction.text import CountVectorizer\n",
    "from scipy.sparse import csr_matrix\n",
    "from sklearn.metrics import accuracy_score, precision_score, recall_score, roc_curve, auc\n",
    "from sklearn.linear_model import LogisticRegression\n",
    "from sklearn.utils._testing import ignore_warnings\n",
    "from sklearn.exceptions import ConvergenceWarning"
   ]
  },
  {
   "cell_type": "markdown",
   "id": "6a1ef9db",
   "metadata": {},
   "source": [
    "## Part 1: Loading The Data:"
   ]
  },
  {
   "cell_type": "code",
   "execution_count": 2,
   "id": "523ed55b",
   "metadata": {},
   "outputs": [],
   "source": [
    "email_dicts = []\n",
    "json_dir_name = './email_json_dataset1'\n",
    "json_pattern = os.path.join(json_dir_name, '*.json')\n",
    "file_list = glob.glob(json_pattern)\n",
    "for file in file_list:\n",
    "    with open(file) as json_file:\n",
    "        dict_data = json.load(json_file)\n",
    "        email_dicts.append(dict_data)"
   ]
  },
  {
   "cell_type": "code",
   "execution_count": 3,
   "id": "c4007cfb",
   "metadata": {},
   "outputs": [
    {
     "data": {
      "text/html": [
       "<div>\n",
       "<style scoped>\n",
       "    .dataframe tbody tr th:only-of-type {\n",
       "        vertical-align: middle;\n",
       "    }\n",
       "\n",
       "    .dataframe tbody tr th {\n",
       "        vertical-align: top;\n",
       "    }\n",
       "\n",
       "    .dataframe thead th {\n",
       "        text-align: right;\n",
       "    }\n",
       "</style>\n",
       "<table border=\"1\" class=\"dataframe\">\n",
       "  <thead>\n",
       "    <tr style=\"text-align: right;\">\n",
       "      <th></th>\n",
       "      <th>label</th>\n",
       "      <th>to_address</th>\n",
       "      <th>from_address</th>\n",
       "      <th>subject</th>\n",
       "      <th>body</th>\n",
       "    </tr>\n",
       "  </thead>\n",
       "  <tbody>\n",
       "    <tr>\n",
       "      <th>0</th>\n",
       "      <td>spam</td>\n",
       "      <td>&lt;manager@flax9.uwaterloo.ca&gt;</td>\n",
       "      <td>\"Barry Earl\" &lt;Langmuir'sascetic@lobbyist.com&gt;</td>\n",
       "      <td>Some useful advices for your health</td>\n",
       "      <td>\\n\\n\\n\\n\\n\\n\\n\\nDear customer.\\nWanna know how...</td>\n",
       "    </tr>\n",
       "    <tr>\n",
       "      <th>1</th>\n",
       "      <td>spam</td>\n",
       "      <td>smile@speedy.uwaterloo.ca</td>\n",
       "      <td>%CUST_WORD %MID_WORD &lt;FlorieTaft0887@yahoo.com&gt;</td>\n",
       "      <td>$oftware taking a bite out of your budget? Try...</td>\n",
       "      <td>\\n\\n\\n\\n\\n\\n\\n\\n\\n\\n\\n\\n\\nLove works a differe...</td>\n",
       "    </tr>\n",
       "    <tr>\n",
       "      <th>2</th>\n",
       "      <td>ham</td>\n",
       "      <td>Perl 6 announce list &lt;perl6-announce@perl.org&gt;</td>\n",
       "      <td>Ann Barcomb &lt;kudra@domaintje.com&gt;</td>\n",
       "      <td>Weekly Perl 6 mailing list summary for 08-14 A...</td>\n",
       "      <td></td>\n",
       "    </tr>\n",
       "    <tr>\n",
       "      <th>3</th>\n",
       "      <td>ham</td>\n",
       "      <td>samba-cvs@samba.org</td>\n",
       "      <td>jerry@samba.org</td>\n",
       "      <td>svn commit: samba r22510 - in branches/SAMBA_3...</td>\n",
       "      <td>Author: jerry\\nDate: 2007-04-25 09:36:47 +0000...</td>\n",
       "    </tr>\n",
       "    <tr>\n",
       "      <th>4</th>\n",
       "      <td>spam</td>\n",
       "      <td>theorize@plg.uwaterloo.ca</td>\n",
       "      <td>\"Eli Kirby\" &lt;Ethansulfursalesgirl@iscs.co.kr&gt;</td>\n",
       "      <td>evil</td>\n",
       "      <td>Finding rates low enough to suit is never an e...</td>\n",
       "    </tr>\n",
       "  </tbody>\n",
       "</table>\n",
       "</div>"
      ],
      "text/plain": [
       "  label                                      to_address  \\\n",
       "0  spam                    <manager@flax9.uwaterloo.ca>   \n",
       "1  spam                       smile@speedy.uwaterloo.ca   \n",
       "2   ham  Perl 6 announce list <perl6-announce@perl.org>   \n",
       "3   ham                             samba-cvs@samba.org   \n",
       "4  spam                       theorize@plg.uwaterloo.ca   \n",
       "\n",
       "                                      from_address  \\\n",
       "0    \"Barry Earl\" <Langmuir'sascetic@lobbyist.com>   \n",
       "1  %CUST_WORD %MID_WORD <FlorieTaft0887@yahoo.com>   \n",
       "2                Ann Barcomb <kudra@domaintje.com>   \n",
       "3                                  jerry@samba.org   \n",
       "4    \"Eli Kirby\" <Ethansulfursalesgirl@iscs.co.kr>   \n",
       "\n",
       "                                             subject  \\\n",
       "0                Some useful advices for your health   \n",
       "1  $oftware taking a bite out of your budget? Try...   \n",
       "2  Weekly Perl 6 mailing list summary for 08-14 A...   \n",
       "3  svn commit: samba r22510 - in branches/SAMBA_3...   \n",
       "4                                               evil   \n",
       "\n",
       "                                                body  \n",
       "0  \\n\\n\\n\\n\\n\\n\\n\\nDear customer.\\nWanna know how...  \n",
       "1  \\n\\n\\n\\n\\n\\n\\n\\n\\n\\n\\n\\n\\nLove works a differe...  \n",
       "2                                                     \n",
       "3  Author: jerry\\nDate: 2007-04-25 09:36:47 +0000...  \n",
       "4  Finding rates low enough to suit is never an e...  "
      ]
     },
     "execution_count": 3,
     "metadata": {},
     "output_type": "execute_result"
    }
   ],
   "source": [
    "email_df = pd.DataFrame.from_dict(email_dicts)\n",
    "email_df['label'] = email_df['label'].astype('category')\n",
    "email_df.head()"
   ]
  },
  {
   "cell_type": "code",
   "execution_count": 4,
   "id": "8e875489",
   "metadata": {},
   "outputs": [
    {
     "name": "stdout",
     "output_type": "stream",
     "text": [
      "<class 'pandas.core.frame.DataFrame'>\n",
      "RangeIndex: 63542 entries, 0 to 63541\n",
      "Data columns (total 5 columns):\n",
      " #   Column        Non-Null Count  Dtype   \n",
      "---  ------        --------------  -----   \n",
      " 0   label         63542 non-null  category\n",
      " 1   to_address    63141 non-null  object  \n",
      " 2   from_address  63542 non-null  object  \n",
      " 3   subject       63410 non-null  object  \n",
      " 4   body          63542 non-null  object  \n",
      "dtypes: category(1), object(4)\n",
      "memory usage: 2.0+ MB\n"
     ]
    }
   ],
   "source": [
    "email_df.info()"
   ]
  },
  {
   "cell_type": "markdown",
   "id": "6a3c40c4",
   "metadata": {},
   "source": [
    "#### Evaluate the class imbalance:"
   ]
  },
  {
   "cell_type": "code",
   "execution_count": 5,
   "id": "d91d5279",
   "metadata": {},
   "outputs": [
    {
     "data": {
      "text/plain": [
       "spam    40450\n",
       "ham     23092\n",
       "Name: label, dtype: int64"
      ]
     },
     "execution_count": 5,
     "metadata": {},
     "output_type": "execute_result"
    }
   ],
   "source": [
    "email_df['label'].value_counts()"
   ]
  },
  {
   "cell_type": "markdown",
   "id": "e8924dc8",
   "metadata": {},
   "source": [
    "## Part 2: Extracting Features"
   ]
  },
  {
   "cell_type": "code",
   "execution_count": 6,
   "id": "5ca44173",
   "metadata": {},
   "outputs": [],
   "source": [
    "def under_sample_df(df, column):\n",
    "    \"\"\"\n",
    "    Takes the supplied DataFrame, applies under sampling according to the\n",
    "    column name specified, and returns the under sampled DataFrame.\n",
    "    \"\"\"\n",
    "    desired_count = df[column].value_counts().min()\n",
    "    mask = df.groupby(column)[column].transform('size') >= desired_count\n",
    "    df = pd.concat((df[mask].groupby(column).sample(n=desired_count), df[~mask]), ignore_index=True)\n",
    "    return df"
   ]
  },
  {
   "cell_type": "code",
   "execution_count": 7,
   "id": "46aa84bf",
   "metadata": {},
   "outputs": [],
   "source": [
    "def get_train_test_df(df, column, pos_label, split):\n",
    "    \"\"\"\n",
    "    Returns training and testing DataFrames whose proportional sizes correspond to\n",
    "    'split', where each has an equal ratio of positive labels and negative labels.\n",
    "    \"\"\"\n",
    "    pos_df = df[df[column] == pos_label]\n",
    "    neg_df = df[df[column] != pos_label]\n",
    "\n",
    "    pos_train_idxs = np.random.choice(pos_df.shape[0], replace = False, size = int(pos_df.shape[0] * split))\n",
    "    pos_test_idxs = np.delete(np.arange(0, pos_df.shape[0]), pos_train_idxs)\n",
    "    neg_train_idxs = np.random.choice(neg_df.shape[0], replace = False, size = int(neg_df.shape[0] * split))\n",
    "    neg_test_idxs = np.delete(np.arange(0, neg_df.shape[0]), neg_train_idxs)\n",
    "    \n",
    "    train_df = pos_df.iloc[pos_train_idxs]\n",
    "    test_df = pos_df.iloc[pos_test_idxs]\n",
    "    \n",
    "    train_df = pd.concat([train_df, neg_df.iloc[neg_train_idxs]])\n",
    "    test_df = pd.concat([test_df, neg_df.iloc[neg_test_idxs]])\n",
    "    \n",
    "    # Shuffle the rows of entries\n",
    "    train_df = train_df.sample(frac=1)\n",
    "    test_df = test_df.sample(frac=1)\n",
    "    \n",
    "    return train_df, test_df    "
   ]
  },
  {
   "cell_type": "markdown",
   "id": "bd0784bf",
   "metadata": {},
   "source": [
    "### Creating training and testing DataFrame Partitions:"
   ]
  },
  {
   "cell_type": "code",
   "execution_count": 8,
   "id": "7cf10360",
   "metadata": {},
   "outputs": [],
   "source": [
    "train_df, test_df = get_train_test_df(email_df, 'label', 'spam', 0.8)"
   ]
  },
  {
   "cell_type": "markdown",
   "id": "e01d3493",
   "metadata": {},
   "source": [
    "### Use *CountVectorizer* to create bag-of-words model:"
   ]
  },
  {
   "cell_type": "code",
   "execution_count": 9,
   "id": "d60cd9db",
   "metadata": {},
   "outputs": [],
   "source": [
    "vectorizer = CountVectorizer(min_df=10)\n",
    "X_train = vectorizer.fit_transform(train_df['body'])"
   ]
  },
  {
   "cell_type": "code",
   "execution_count": 10,
   "id": "9cf1bc4a",
   "metadata": {},
   "outputs": [
    {
     "name": "stdout",
     "output_type": "stream",
     "text": [
      "Feature matrix # columns: 28278\n",
      "Feature matrix # rows: 50833\n",
      "Feature matrix # nonzero entries: 5088887\n",
      "\n"
     ]
    }
   ],
   "source": [
    "print(f'Feature matrix # columns: {X_train.shape[1]}')\n",
    "print(f'Feature matrix # rows: {X_train.shape[0]}')\n",
    "print(f'Feature matrix # nonzero entries: {csr_matrix.count_nonzero(X_train)}\\n')"
   ]
  },
  {
   "cell_type": "markdown",
   "id": "30e507b2",
   "metadata": {},
   "source": [
    "## Part 3: Creating & Evaluating Simple Classifier:"
   ]
  },
  {
   "cell_type": "code",
   "execution_count": 11,
   "id": "c709a3f0",
   "metadata": {},
   "outputs": [],
   "source": [
    "@ignore_warnings(category=ConvergenceWarning)\n",
    "def eval_model(model, X_train, y_train, X_test, y_test):\n",
    "    \"\"\"\n",
    "    Evaluates a supplied model on the supplied training and testing data.\n",
    "    This evaluation prints the accuracy, recall, precision, and displays\n",
    "    the resulting ROC curve.\n",
    "    \"\"\"\n",
    "    model.fit(X_train , y_train)\n",
    "\n",
    "    predictions = reg.predict(X_test)\n",
    "\n",
    "    accuracy = accuracy_score(predictions, y_test)\n",
    "    recall = recall_score(predictions, y_test, pos_label=\"spam\")\n",
    "    precision = precision_score(predictions, y_test, pos_label=\"spam\")\n",
    "\n",
    "    y_score = model.predict_proba(X_test)\n",
    "    fpr, tpr, _ = roc_curve(y_test, y_score[:, 1], pos_label=\"spam\")\n",
    "    base_fpr = np.linspace(0, 1, 101)\n",
    "    tpr = np.interp(base_fpr, fpr, tpr)\n",
    "    tpr[0] = 0.0\n",
    "    test_auc = auc(base_fpr, tpr)\n",
    "\n",
    "    print(\"Accuracy: \", accuracy)\n",
    "    print(\"Recall: \", recall)\n",
    "    print(\"Precision: \", precision)\n",
    "\n",
    "    plt.plot(base_fpr,\n",
    "             tpr,\n",
    "             'b',\n",
    "             label=f\"Mean ROC (AUC ={test_auc})\")\n",
    "\n",
    "    plt.plot([0, 1], [0, 1],'r--')\n",
    "    plt.xlim([-0.01, 1.01])\n",
    "    plt.ylim([-0.01, 1.01])\n",
    "    plt.ylabel('True Positive Rate')\n",
    "    plt.xlabel('False Positive Rate')\n",
    "    plt.legend()\n",
    "    plt.show()"
   ]
  },
  {
   "cell_type": "markdown",
   "id": "cefb0d5e",
   "metadata": {},
   "source": [
    "### Evaluating Logistic Regression model on unbalanced data:"
   ]
  },
  {
   "cell_type": "code",
   "execution_count": 12,
   "id": "1f4ea1d4",
   "metadata": {},
   "outputs": [
    {
     "name": "stdout",
     "output_type": "stream",
     "text": [
      "Accuracy:  0.9687622944370131\n",
      "Recall:  0.9558004502903188\n",
      "Precision:  0.9970333745364648\n"
     ]
    },
    {
     "data": {
      "image/png": "[encoded data removed]",
      "text/plain": [
       "<Figure size 432x288 with 1 Axes>"
      ]
     },
     "metadata": {
      "needs_background": "light"
     },
     "output_type": "display_data"
    }
   ],
   "source": [
    "y_train = train_df['label'].to_numpy()\n",
    "\n",
    "X_test = vectorizer.transform(test_df['body'])\n",
    "y_test = test_df['label'].to_numpy()\n",
    "\n",
    "reg = LogisticRegression(max_iter=200)\n",
    "\n",
    "eval_model(reg, X_train, y_train, X_test, y_test)"
   ]
  },
  {
   "cell_type": "markdown",
   "id": "7a9994d6",
   "metadata": {},
   "source": [
    "### Evaluating Logistic Regression model on weight-balanced data:"
   ]
  },
  {
   "cell_type": "code",
   "execution_count": 13,
   "id": "ea598a18",
   "metadata": {},
   "outputs": [
    {
     "name": "stdout",
     "output_type": "stream",
     "text": [
      "Accuracy:  0.9672672908962153\n",
      "Recall:  0.9559173003802282\n",
      "Precision:  0.9944375772558715\n"
     ]
    },
    {
     "data": {
      "image/png": "[encoded data removed]",
      "text/plain": [
       "<Figure size 432x288 with 1 Axes>"
      ]
     },
     "metadata": {
      "needs_background": "light"
     },
     "output_type": "display_data"
    }
   ],
   "source": [
    "reg = LogisticRegression(max_iter=200, class_weight='balanced')\n",
    "eval_model(reg, X_train, y_train, X_test, y_test)"
   ]
  },
  {
   "cell_type": "markdown",
   "id": "49094afe",
   "metadata": {},
   "source": [
    "### Evaluating Logistic Regression model on undersampled data:"
   ]
  },
  {
   "cell_type": "code",
   "execution_count": 14,
   "id": "927b79e6",
   "metadata": {},
   "outputs": [
    {
     "name": "stdout",
     "output_type": "stream",
     "text": [
      "Accuracy:  0.9574583243126218\n",
      "Recall:  0.9280794165316045\n",
      "Precision:  0.9917731110630007\n"
     ]
    },
    {
     "data": {
      "image/png": "[encoded data removed]",
      "text/plain": [
       "<Figure size 432x288 with 1 Axes>"
      ]
     },
     "metadata": {
      "needs_background": "light"
     },
     "output_type": "display_data"
    }
   ],
   "source": [
    "under_sampled_df = under_sample_df(email_df,'label')\n",
    "train_df, test_df = get_train_test_df(under_sampled_df, 'label', 'spam', 0.8)\n",
    "\n",
    "vectorizer = CountVectorizer(min_df=10)\n",
    "\n",
    "X_train = vectorizer.fit_transform(train_df['body'])\n",
    "y_train = train_df['label'].to_numpy()\n",
    "\n",
    "X_test = vectorizer.transform(test_df['body'])\n",
    "y_test = test_df['label'].to_numpy()\n",
    "\n",
    "reg = LogisticRegression(max_iter=200)\n",
    "\n",
    "eval_model(reg, X_train, y_train, X_test, y_test)"
   ]
  }
 ],
 "metadata": {
  "kernelspec": {
   "display_name": "Python 3 (ipykernel)",
   "language": "python",
   "name": "python3"
  },
  "language_info": {
   "codemirror_mode": {
    "name": "ipython",
    "version": 3
   },
   "file_extension": ".py",
   "mimetype": "text/x-python",
   "name": "python",
   "nbconvert_exporter": "python",
   "pygments_lexer": "ipython3",
   "version": "3.8.10"
  }
 },
 "nbformat": 4,
 "nbformat_minor": 5
}