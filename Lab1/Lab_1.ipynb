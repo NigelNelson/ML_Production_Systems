{
 "cells": [
  {
   "cell_type": "markdown",
   "id": "38184463",
   "metadata": {},
   "source": [
    "# Project 1: Email Classifier\n",
    "## Authors: Nigel Nelson, Collin Quinn\n",
    "---\n"
   ]
  },
  {
   "cell_type": "code",
   "execution_count": 24,
   "id": "1d62b7e1",
   "metadata": {},
   "outputs": [],
   "source": [
    "import json\n",
    "import glob\n",
    "import os\n",
    "import pandas as pd\n",
    "from sklearn.feature_extraction.text import CountVectorizer\n",
    "from scipy.sparse import csr_matrix\n",
    "from sklearn.naive_bayes import MultinomialNB\n",
    "from sklearn.model_selection import train_test_split\n",
    "import numpy as np\n",
    "from sklearn.metrics import accuracy_score, precision_score, recall_score, f1_score, plot_roc_curve, roc_curve, auc\n",
    "from scipy import sparse\n",
    "import matplotlib.pyplot as plt\n",
    "from sklearn.linear_model import LogisticRegression\n",
    "from sklearn.utils._testing import ignore_warnings\n",
    "from sklearn.exceptions import ConvergenceWarning"
   ]
  },
  {
   "cell_type": "markdown",
   "id": "6a1ef9db",
   "metadata": {},
   "source": [
    "## Part 1: Loading The Data:"
   ]
  },
  {
   "cell_type": "code",
   "execution_count": 2,
   "id": "523ed55b",
   "metadata": {},
   "outputs": [],
   "source": [
    "email_dicts = []\n",
    "json_dir_name = './email_json_dataset1'\n",
    "json_pattern = os.path.join(json_dir_name, '*.json')\n",
    "file_list = glob.glob(json_pattern)\n",
    "for file in file_list:\n",
    "    with open(file) as json_file:\n",
    "        dict_data = json.load(json_file)\n",
    "        email_dicts.append(dict_data)"
   ]
  },
  {
   "cell_type": "code",
   "execution_count": 4,
   "id": "c4007cfb",
   "metadata": {},
   "outputs": [
    {
     "data": {
      "text/html": [
       "<div>\n",
       "<style scoped>\n",
       "    .dataframe tbody tr th:only-of-type {\n",
       "        vertical-align: middle;\n",
       "    }\n",
       "\n",
       "    .dataframe tbody tr th {\n",
       "        vertical-align: top;\n",
       "    }\n",
       "\n",
       "    .dataframe thead th {\n",
       "        text-align: right;\n",
       "    }\n",
       "</style>\n",
       "<table border=\"1\" class=\"dataframe\">\n",
       "  <thead>\n",
       "    <tr style=\"text-align: right;\">\n",
       "      <th></th>\n",
       "      <th>label</th>\n",
       "      <th>to_address</th>\n",
       "      <th>from_address</th>\n",
       "      <th>subject</th>\n",
       "      <th>body</th>\n",
       "    </tr>\n",
       "  </thead>\n",
       "  <tbody>\n",
       "    <tr>\n",
       "      <th>0</th>\n",
       "      <td>spam</td>\n",
       "      <td>&lt;manager@flax9.uwaterloo.ca&gt;</td>\n",
       "      <td>\"Barry Earl\" &lt;Langmuir'sascetic@lobbyist.com&gt;</td>\n",
       "      <td>Some useful advices for your health</td>\n",
       "      <td>\\n\\n\\n\\n\\n\\n\\n\\nDear customer.\\nWanna know how...</td>\n",
       "    </tr>\n",
       "    <tr>\n",
       "      <th>1</th>\n",
       "      <td>spam</td>\n",
       "      <td>smile@speedy.uwaterloo.ca</td>\n",
       "      <td>%CUST_WORD %MID_WORD &lt;FlorieTaft0887@yahoo.com&gt;</td>\n",
       "      <td>$oftware taking a bite out of your budget? Try...</td>\n",
       "      <td>\\n\\n\\n\\n\\n\\n\\n\\n\\n\\n\\n\\n\\nLove works a differe...</td>\n",
       "    </tr>\n",
       "    <tr>\n",
       "      <th>2</th>\n",
       "      <td>ham</td>\n",
       "      <td>Perl 6 announce list &lt;perl6-announce@perl.org&gt;</td>\n",
       "      <td>Ann Barcomb &lt;kudra@domaintje.com&gt;</td>\n",
       "      <td>Weekly Perl 6 mailing list summary for 08-14 A...</td>\n",
       "      <td></td>\n",
       "    </tr>\n",
       "    <tr>\n",
       "      <th>3</th>\n",
       "      <td>ham</td>\n",
       "      <td>samba-cvs@samba.org</td>\n",
       "      <td>jerry@samba.org</td>\n",
       "      <td>svn commit: samba r22510 - in branches/SAMBA_3...</td>\n",
       "      <td>Author: jerry\\nDate: 2007-04-25 09:36:47 +0000...</td>\n",
       "    </tr>\n",
       "    <tr>\n",
       "      <th>4</th>\n",
       "      <td>spam</td>\n",
       "      <td>theorize@plg.uwaterloo.ca</td>\n",
       "      <td>\"Eli Kirby\" &lt;Ethansulfursalesgirl@iscs.co.kr&gt;</td>\n",
       "      <td>evil</td>\n",
       "      <td>Finding rates low enough to suit is never an e...</td>\n",
       "    </tr>\n",
       "  </tbody>\n",
       "</table>\n",
       "</div>"
      ],
      "text/plain": [
       "  label                                      to_address  \\\n",
       "0  spam                    <manager@flax9.uwaterloo.ca>   \n",
       "1  spam                       smile@speedy.uwaterloo.ca   \n",
       "2   ham  Perl 6 announce list <perl6-announce@perl.org>   \n",
       "3   ham                             samba-cvs@samba.org   \n",
       "4  spam                       theorize@plg.uwaterloo.ca   \n",
       "\n",
       "                                      from_address  \\\n",
       "0    \"Barry Earl\" <Langmuir'sascetic@lobbyist.com>   \n",
       "1  %CUST_WORD %MID_WORD <FlorieTaft0887@yahoo.com>   \n",
       "2                Ann Barcomb <kudra@domaintje.com>   \n",
       "3                                  jerry@samba.org   \n",
       "4    \"Eli Kirby\" <Ethansulfursalesgirl@iscs.co.kr>   \n",
       "\n",
       "                                             subject  \\\n",
       "0                Some useful advices for your health   \n",
       "1  $oftware taking a bite out of your budget? Try...   \n",
       "2  Weekly Perl 6 mailing list summary for 08-14 A...   \n",
       "3  svn commit: samba r22510 - in branches/SAMBA_3...   \n",
       "4                                               evil   \n",
       "\n",
       "                                                body  \n",
       "0  \\n\\n\\n\\n\\n\\n\\n\\nDear customer.\\nWanna know how...  \n",
       "1  \\n\\n\\n\\n\\n\\n\\n\\n\\n\\n\\n\\n\\nLove works a differe...  \n",
       "2                                                     \n",
       "3  Author: jerry\\nDate: 2007-04-25 09:36:47 +0000...  \n",
       "4  Finding rates low enough to suit is never an e...  "
      ]
     },
     "execution_count": 4,
     "metadata": {},
     "output_type": "execute_result"
    }
   ],
   "source": [
    "email_df = pd.DataFrame.from_dict(email_dicts)\n",
    "email_df['label'] = email_df['label'].astype('category')\n",
    "email_df.head()"
   ]
  },
  {
   "cell_type": "code",
   "execution_count": 5,
   "id": "8e875489",
   "metadata": {},
   "outputs": [
    {
     "name": "stdout",
     "output_type": "stream",
     "text": [
      "<class 'pandas.core.frame.DataFrame'>\n",
      "RangeIndex: 63542 entries, 0 to 63541\n",
      "Data columns (total 5 columns):\n",
      " #   Column        Non-Null Count  Dtype   \n",
      "---  ------        --------------  -----   \n",
      " 0   label         63542 non-null  category\n",
      " 1   to_address    63141 non-null  object  \n",
      " 2   from_address  63542 non-null  object  \n",
      " 3   subject       63410 non-null  object  \n",
      " 4   body          63542 non-null  object  \n",
      "dtypes: category(1), object(4)\n",
      "memory usage: 2.0+ MB\n"
     ]
    }
   ],
   "source": [
    "email_df.info()"
   ]
  },
  {
   "cell_type": "markdown",
   "id": "422e5b72",
   "metadata": {},
   "source": [
    "#### Evaluate the class imbalance:"
   ]
  },
  {
   "cell_type": "code",
   "execution_count": 6,
   "id": "d91d5279",
   "metadata": {},
   "outputs": [
    {
     "data": {
      "text/plain": [
       "spam    40450\n",
       "ham     23092\n",
       "Name: label, dtype: int64"
      ]
     },
     "execution_count": 6,
     "metadata": {},
     "output_type": "execute_result"
    }
   ],
   "source": [
    "email_df['label'].value_counts()"
   ]
  },
  {
   "cell_type": "markdown",
   "id": "e8924dc8",
   "metadata": {},
   "source": [
    "## Part 2: Extracting Features"
   ]
  },
  {
   "cell_type": "code",
   "execution_count": 27,
   "id": "5ca44173",
   "metadata": {},
   "outputs": [],
   "source": [
    "def under_sample_df(df, column):\n",
    "    \"\"\"\n",
    "    Takes the supplied DataFrame, applies under sampling according to the\n",
    "    column name specified, and returns the under sampled DataFrame\n",
    "    \"\"\"\n",
    "    desired_count = df[column].value_counts().min()\n",
    "    mask = df.groupby(column)[column].transform('size') >= desired_count\n",
    "    df = pd.concat((df[mask].groupby(column).sample(n=desired_count), df[~mask]), ignore_index=True)\n",
    "    return df"
   ]
  },
  {
   "cell_type": "code",
   "execution_count": 8,
   "id": "9f6ae738",
   "metadata": {},
   "outputs": [],
   "source": [
    "def get_train_test_df(df, column, pos_label, split):\n",
    "    \"\"\"\n",
    "    Returns training and testing DataFrames whose proportional sizes correspond to\n",
    "    'split', where each has an equal ratio of positive labels and negative labels\n",
    "    \"\"\"\n",
    "    pos_df = df[df[column] == pos_label]\n",
    "    neg_df = df[df[column] != pos_label]\n",
    "\n",
    "    pos_train_idxs = np.random.choice(pos_df.shape[0], replace = False, size = int(pos_df.shape[0] * split))\n",
    "    pos_test_idxs = np.delete(np.arange(0, pos_df.shape[0]), pos_train_idxs)\n",
    "    neg_train_idxs = np.random.choice(neg_df.shape[0], replace = False, size = int(neg_df.shape[0] * split))\n",
    "    neg_test_idxs = np.delete(np.arange(0, neg_df.shape[0]), neg_train_idxs)\n",
    "    \n",
    "    train_df = pos_df.iloc[pos_train_idxs]\n",
    "    test_df = pos_df.iloc[pos_test_idxs]\n",
    "    \n",
    "    train_df = pd.concat([train_df, neg_df.iloc[neg_train_idxs]])\n",
    "    test_df = pd.concat([test_df, neg_df.iloc[neg_test_idxs]])\n",
    "    \n",
    "    train_df = train_df.sample(frac=1)\n",
    "    test_df = test_df.sample(frac=1)\n",
    "    \n",
    "    return train_df, test_df    "
   ]
  },
  {
   "cell_type": "code",
   "execution_count": 34,
   "id": "8f3be0f3",
   "metadata": {},
   "outputs": [],
   "source": [
    "train_df, test_df = get_train_test_df(email_df, 'label', 'spam', 0.8)"
   ]
  },
  {
   "cell_type": "markdown",
   "id": "22daec15",
   "metadata": {},
   "source": [
    "### Use *CountVectorizer* to create bag-of-words model:"
   ]
  },
  {
   "cell_type": "code",
   "execution_count": 35,
   "id": "d60cd9db",
   "metadata": {},
   "outputs": [],
   "source": [
    "vectorizer = CountVectorizer(min_df=10)\n",
    "X_train = vectorizer.fit_transform(train_df['body'])"
   ]
  },
  {
   "cell_type": "code",
   "execution_count": 36,
   "id": "9cf1bc4a",
   "metadata": {},
   "outputs": [
    {
     "name": "stdout",
     "output_type": "stream",
     "text": [
      "Feature matrix # columns: 28377\n",
      "Feature matrix # rows: 50833\n",
      "Feature matrix # nonzero entries: 5089507\n",
      "\n"
     ]
    }
   ],
   "source": [
    "print(f'Feature matrix # columns: {X_train.shape[1]}')\n",
    "print(f'Feature matrix # rows: {X_train.shape[0]}')\n",
    "print(f'Feature matrix # nonzero entries: {csr_matrix.count_nonzero(X_train)}\\n')"
   ]
  },
  {
   "cell_type": "markdown",
   "id": "30e507b2",
   "metadata": {},
   "source": [
    "## Part 3: Creating & Evaluating Simple Classifier"
   ]
  },
  {
   "cell_type": "code",
   "execution_count": 41,
   "id": "9a2a1b9a",
   "metadata": {},
   "outputs": [],
   "source": [
    "@ignore_warnings(category=ConvergenceWarning)\n",
    "def eval_model(model, X_train, y_train, X_test, y_test):\n",
    "    \"\"\"\n",
    "    Evaluates a supplied model on the supplied training and testing data.\n",
    "    This evaluation prints the accuracy, recall, precision, and displays\n",
    "    the resulting ROC curve.\n",
    "    \"\"\"\n",
    "    model.fit(X_train , y_train)\n",
    "\n",
    "    predictions = reg.predict(X_test)\n",
    "\n",
    "    accuracy = accuracy_score(predictions, y_test)\n",
    "    recall = recall_score(predictions, y_test, pos_label=\"spam\")\n",
    "    precision = precision_score(predictions, y_test, pos_label=\"spam\")\n",
    "\n",
    "    y_score = reg.predict_proba(X_test)\n",
    "    fpr, tpr, _ = roc_curve(y_test, y_score[:, 1], pos_label=\"spam\")\n",
    "    base_fpr = np.linspace(0, 1, 101)\n",
    "    tpr = np.interp(base_fpr, fpr, tpr)\n",
    "    tpr[0] = 0.0\n",
    "    test_auc = auc(base_fpr, tpr)\n",
    "\n",
    "    print(\"Average accuracy score: \", accuracy)\n",
    "    print(\"Average recall score: \", recall)\n",
    "    print(\"Average precision score: \", precision)\n",
    "\n",
    "    plt.plot(base_fpr,\n",
    "             tpr,\n",
    "             'b',\n",
    "             label=f\"Mean ROC (AUC ={test_auc})\")\n",
    "\n",
    "    plt.plot([0, 1], [0, 1],'r--')\n",
    "    plt.xlim([-0.01, 1.01])\n",
    "    plt.ylim([-0.01, 1.01])\n",
    "    plt.ylabel('True Positive Rate')\n",
    "    plt.xlabel('False Positive Rate')\n",
    "    plt.legend()\n",
    "    plt.show()"
   ]
  },
  {
   "cell_type": "code",
   "execution_count": 42,
   "id": "6ba94cd4",
   "metadata": {},
   "outputs": [
    {
     "name": "stdout",
     "output_type": "stream",
     "text": [
      "Average accuracy score:  0.9584325611604243\n",
      "Average recall score:  0.928037194259147\n",
      "Average precision score:  0.9939380818358953\n"
     ]
    },
    {
     "data": {
      "image/png": "iVBORw0KGgoAAAANSUhEUgAAAYYAAAEICAYAAABbOlNNAAAAOXRFWHRTb2Z0d2FyZQBNYXRwbG90bGliIHZlcnNpb24zLjUuMCwgaHR0cHM6Ly9tYXRwbG90bGliLm9yZy8/fFQqAAAACXBIWXMAAAsTAAALEwEAmpwYAAA4y0lEQVR4nO3deZyNdfvA8c+VEiGyFYasYexMlsoSTyWKEqGnlOXRgvJY2hctSsuTijxPKqmURImiyBYpsq/9SGMwpOxlGzPm+v3xPXM6g5k5M+asc71fr3nNOfe5z32ucxv3dX+/3/t73aKqGGOMMWnOCXUAxhhjwoslBmOMMelYYjDGGJOOJQZjjDHpWGIwxhiTjiUGY4wx6QQsMYjIOBH5Q0TWZ/C6iMgbIrJFRNaKSMNAxWKMMcZ/5wZw2+OB0cAHGbx+PVDN89ME+K/nd6ZKliypFStWzJ0IjTEmj1ixYsVeVS3lz7oBSwyqulBEKmaySkfgA3Uz7JaISDERKaOqv2W23YoVK7J8+fLcDNUvJ07AkSPu5/hxSEpyPykpQQ/F5BGpqe7v6+RJ92OM31SRlGRi6+fn4ovdIhHZ5u/bA9liyEo5YIfP80TPstMSg4j0BfoCVKhQISjBpfnhB7j5Zvjjj6B+rDHG5Egp/uAd+rCLsvw+8X9065b9bYQyMfhNVccCYwHi4uKCVsPjxx+hbVu45BK4/34oVAguuAAKFoTzz3c/554LIsGKyOQlIu7v69xz4Zxz7O/M+Cff4fNpcM8mfutwNUVa52wboUwMO4HyPs9jPMvCwtKlcN11cPHFMH8+lCsX6oiMMSYDW7bASy/B6NGQvyj8up4q552X482F8nLV6UAPz9VJTYFDWY0vBMuSJXDttVC6tCUFY0wYS0mBV16BOnVg0iRYt84tP4ukAAFsMYjIRKAVUFJEEoGngPMAVPV/wEygHbAFOAr0DFQs2fHll9C1K5Qt65JCTEyoIzLGmDNYtw5694Zly6BDBxgzJtfOYgN5VVL3LF5XoF+gPj8n3n4b7rkHGjaEGTNci8EYY8KOKvTpAwkJ8MkncOutuToIFRGDz4GmCk8/7X6uvx4+/RQKFw51VMYYc4qffoJq1eCii+DDD6F4cShZMtc/Js+XxEhJgX/9yyWFnj1h2jRLCsaYMHPkCAwaBE2bwnPPuWWXXRaQpAB5vMVw5IgbT5gxA554wiUHuyTQGBNW5s1zZ6/x8XDvvfDUUwH/yDybGPbsgRtugOXL4X//g7vvDnVExhhzijFjoF8/qFoVFiyAli2D8rF5MjHEx7uJazt2wOefQ8eOoY7IGGN8HDvmZtLeeCMkJroujYIFg/bxeW6MYcUKaNYM9u2DuXMtKRhjwsgff0C3bu7yU1UoXx6efz6oSQHyWGKYNcu1xAoWhMWL4YorQh2RMcbgksCECVCzJkyd6g5UqakhCyfPJIYPPnBjClWrusJ4NWqEOiJjjAF+/90dnO64w11ptGoVPP445MsXspCiPjGowogRcOedLgkvXOhmNRtjTFgoWNANfL72Gnz/PcTGhjqi6E4MJ0+6qqiPPAK33QYzZ8KFF4Y6KmNMnvfLL27m8okT7qC0bh088EBIWwm+ojYxHDsGXbq4YoNDhrhJgvnzhzoqY0yelpLiqqDWrQuffQbrPXc+Pje8LhCNysSwfz9ccw188YVrnb38sqtnb4wxIbNmjZu5/NBDrvbOxo2uMFsYCq80lQu2b3dzFH799e/aUsYYE1Kq0Levmzw1eTLccktYl1mIqsSwdq1LxEeOuEtTW7UKdUTGmDxtyRJ3pVHx4u5y1OLFoUSJUEeVpajpYJk/H5o3d0n4++8tKRhjQujwYRg40E2WGj7cLatWLSKSAkRJi+HPP6F9e6hUCb75xk0WNMaYkPj2W9dtlJDg6hwNGxbqiLItKloM+/e7q5CGDrWkYIwJoTffdPcFzp/fTZoaPRqKFAl1VNkWFS2G5GT3+yxvc2qMMTmTVvSuY0c3k/nRR6FAgVBHlWNR0WJISXG/w+xSYGNMtPv9d3fp4403uiuPYmLgmWciOilAlCQGazEYY4JK1RVgq1kTpk+HNm1CWvQut0XFOba1GIwxQbN7t7sP8DffuKuO3n036qpyRkWLwRKDMSZoLrgAtm2DUaNg0aKoSwoQJYnBupKMMQG1aRP06gVJSX8XvevfP2pr7UTFt7IWgzEmIJKTXd3+evVc8bWNG93yMKmCGihRlRisxWCMyTWrVkHjxq5u/403uqTQoEGoowqKqDjHTutKshaDMSZXqMI997iB5s8+g06dQh1RUEXFodS6kowxuWLxYncJavHi8PHH7vdFF4U6qqCLiq4kG3w2xpyVv/6CAQNcJc7nn3fLqlTJk0kBrMVgjMnrZs36+14JAwZEZNG73BYVLQZLDMaYHBk92t3Z64ILXL3+11+HwoVDHVXIRcWh1LqSjDHZcvSoSwY33wx798LDD0d8faPcZC0GY0ze8dtv7raaaUXvypVzXUeWFNKJqsRgLQZjzBmpwnvvQWwszJjh7pkQRUXvcltUnGPbPAZjTIZ274YePdyd1Zo3h3fecfdhNhkKaItBRNqKyCYR2SIiD5/h9QoiMl9EVonIWhFpl5PPsa4kY0yGChVyXUhjxsCCBZYU/BCwxCAi+YA3geuBWKC7iMSestrjwKeq2gDoBozJyWfZ4LMxJp2ff4Y773RF74oUgdWr4d57o7boXW4L5F5qDGxR1XhVPQF8AnQ8ZR0FLvQ8LgrsyskHWYvBGAO4s8Thw6F+ffjqqzxT9C63BTIxlAN2+DxP9CzzNQy4XUQSgZnAgDNtSET6ishyEVm+Z8+e0163xGCMYcUKiIuDxx+Hm25yrYY8UvQut4W6XdUdGK+qMUA74EMROS0mVR2rqnGqGleqVKnTNpLWlWQnBcbkUarQrx/s2QNTp8KkSVC6dKijiliBPMfeCZT3eR7jWearN9AWQFV/FJECQEngj+x8UEqKay2InEW0xpjIs2iRuwS1RIm/i94VKxbqqCJeIFsMy4BqIlJJRPLjBpenn7LOdqANgIjUBAoAp/cVZSE52QaejclT/vzTtRBatPi76F3lypYUcknAWgyqmiIi/YFZQD5gnKpuEJFngOWqOh0YDLwtIv/GDUTfpaqa3c9KazEYY/KAmTPdvRISE2HgQHjmmVBHFHUCejhV1Zm4QWXfZU/6PN4IXHm2n2OJwZg84o034IEHXPfRDz9A06ahjigqRcXh1LqSjIliqnDkiKt6esstcPAgPPQQnH9+qCOLWqG+KilXWIvBmCi1a5ergOpb9O7JJy0pBJglBmNM+FF1NY1iY92NdNq3t6J3QRQVh1PrSjImivz2G9x+O8ybBy1bugRRtWqoo8pTrMVgjAkvhQu7iWpvveWSgyWFoIuKxGAtBmMi3IYNcMcd6Yve9e1rRe9CJCr2urUYjIlQJ064eQgNGsDXX7v6RmAJIcSiYu9bYjAmAi1b5orePfWUuwz1559dVVQTclFxOLWuJGMijCoMGAD79sG0adChQ6gjMj6iIjFYi8GYCPHdd1C79t9F70qUgKJFQx2VOYV1JRljAu/QIbj7bmjVCl54wS2rXNmSQpiKisNpcjIULBjqKIwxZ/TVV67o3W+/wZAh8PTToY7IZMFaDMaYwHn9dVfO4qKL4Mcf4eWX4YILQh2VyUJUHE5t8NmYMKIKhw+7+QhdurjHQ4dC/vyhjsz4yVoMxpjck5jorjDq0MEliLJl4bHHLClEGL8Tg4iEbfvPEoMxIZaaCmPHQq1aMHeuSwxW9C5iZZkYROQKEdkI/J/neT0RGRPwyLLBupKMCaFdu6BNG3fVUaNGsG4d/PvfkC9fqCMzOeRPi2EkcB2wD0BV1wAtAhlUdlmLwZgQuvBC2L8f3n7btRaqVAl1ROYs+dWVpKo7Tll0MgCx5JglBmOCbN06uO02OH7cVUNdtQr69AGRUEdmcoE/iWGHiFwBqIicJyJDgJ8DHFe2WFeSMUGSlORqGzVsCHPmwKZNbrkVvYsq/vxr3gP0A8oBO4H6wH0BjCnbrMVgTBAsXerGEJ55Brp1g40boV69UEdlAsCfw2l1Vf2n7wIRuRJYHJiQss9aDMYEmCoMHOhKW8yYAe3ahToiE0D+tBhG+bksZKzFYEyAzJ/vKqCKwMSJ7oY6lhSiXoaHUxFpBlwBlBKRQT4vXQiE1XVolhiMyWUHD7rZyu+8A4MHwyuvQMWKoY7KBElmh9P8QGHPOkV8lv8JdA5kUNmh6hKDdSUZk0umT4d774Xdu+HBB2HYsFBHZIIsw8Sgqt8B34nIeFXdFsSYsuWk58JZazEYkwtGjoRBg6BuXXcDnbi4UEdkQsCfw+lREXkZqAUUSFuoqq0DFlU2pKS435YYjMkhVfjrLzdRrWtXd0nq4MHWDM/D/Bl8/ghXDqMS8DSQACwLYEzZkpzsftvfsDE5sH07tG//d22jsmXh4YftP1Qe509iKKGq7wLJqvqdqvYCwqK1ANZiMCZHUlPhv/91Re+++w46dQp1RCaM+HM49ZyT85uItAd2AcUDF1L2WIvBmGzauRO6d4dFi+Caa+Ctt6BSpVBHZcKIP4nhOREpCgzGzV+4EBgYyKCyw1oMxmRT0aLu5jnvvQd33mn1jcxpsjycqupXnoeHgKvBO/M5LFhiMMYPa9bAiBEuGRQuDMuXW30jk6EM/zJEJJ+IdBeRISJS27PsBhH5ARgdtAizYF1JxmQiKQmeeMJddjpvHmze7JZbUjCZyOyv412gD1ACeENEJgCvAC+pagN/Ni4ibUVkk4hsEZGHM1jnVhHZKCIbROTj7H4BazEYk4EffoAGDeC551yJ7I0b3fwEY7KQ2eE0DqirqqkiUgDYDVRR1X3+bFhE8gFvAtcAicAyEZmuqht91qkGPAJcqaoHRKR0dr9AWovBEoMxPlTdXIQjR+Drr6Ft21BHZCJIZofTE6qaCqCqx0Uk3t+k4NEY2KKq8QAi8gnQEdjos86/gDdV9YDnc/7IVvT83WKwriRjgG+/da2EkiXhk0+geHEoUiTr9xnjI7OupBoistbzs87n+ToRWevHtssBvnd+S/Qs83UZcJmILBaRJSKS7dMa60oyBjhwAHr2hGuvhRdfdMsuvdSSgsmRzA6nNYP0+dWAVkAMsFBE6qjqQd+VRKQv0BegQoUK6TZgg88mz5s6Fe67D/bsgUcegSefDHVEJsJlVkTvbAvn7QTK+zyP8SzzlQgsVdVkYKuIbMYlinQlN1R1LDAWIC4uTn1fsxaDydNefdWNJdSvDzNnum4kY85SIA+ny4BqIlIJlxC6Abedss4XQHfgPREpietais/Oh1hiMHmOKvz5p5uo1r27KzE8cKA1m02uCdjFzKqaAvQHZgE/A5+q6gYReUZEOnhWmwXsE5GNwHxgaDYHuK0ryeQt27bB9df/XfSuTBl3Qx37D2BykV/n2SJSEKigqpuys3FVnQnMPGXZkz6PFRjk+ckRazGYPCE1FcaMcZVPwc1iNiZAsmwxiMiNwGrgG8/z+iIyPcBx+c3mMZiol5gILVrAgAFw1VXuvsv9+9vsZRMw/vxlDcPNSTgIoKqrcfdmCAs2j8FEvWLF4NgxGD/eTVa79NJQR2SinD+JIVlVD52yTM+4ZghYV5KJSqtWwa23uoSQVvTOKqGaIPEnMWwQkduAfCJSTURGAT8EOC6/2eCziSrHj7u5CJdf7u6X8MsvbrklBBNE/iSGAbj7PScBH+PKbw8MYEzZYi0GEzW+/x7q1XMDyz16WNE7EzL+HE5rqOpjwGOBDiYnLDGYqKAKDz4IJ07A7NnuzmrGhIg/h9P/iMglwBRgkqquD3BM2WJdSSaizZ7tZiuXKvV30bvChUMdlcnjsuxKUtWrcXdu2wO85Smi93jAI/OTtRhMRNq/3w0mX3cdvPSSW1ahgiUFExb8uhBaVXer6hvAPbg5DWFTpcvmMZiIM2UK1KwJH38Mjz0Gzz4b6oiMSSfLw6mI1AS6ArcA+4BJwOAAx+U3m8dgIsp//gNDhkDDhjBrlit+Z0yY8ec8exwuGVynqrsCHE+2WVeSCXuqcOiQm6h2m6eO5AMP2B+tCVtZ/mWqarNgBJJT1pVkwtrWrdC3LyQlwYIFrujd4LBpcBtzRhkeTkXkU1W91XP3Nt+ZzoKrfxcWF1inpLiSMVY2xoSVkydh9Gh49FHIl+/vAWZjIkBm59kPeH7fEIxAciolxVoLJszs2AFdu8KPP7oS2W+9BeXLZ/0+Y8JEhufZqvqb5+F9qrrN9we4LzjhZS052QaeTZgpXtydsUyYADNmWFIwEcefDpgzTcG8PrcDySlrMZiwsGIFdO7sit4VKgRLl8I//2k1jkxEyjAxiMi9nvGF6iKy1udnK7A2eCFmLjnZEoMJoWPH3M1zmjSBH36ALVvccksIJoJldkj9GPgaeAF42Gf5X6q6P6BRZUNKinUlmRBZuBD69HEVUPv0gZdfdpekGhPhMksMqqoJItLv1BdEpHi4JAfrSjIhoepaCikpMGcOtGkT6oiMyTVZtRhuAFbgLlf1bRsrUDmAcfnNBp9NUH39NcTFuaJ3kya5geZChUIdlTG5KrOrkm7w/K6kqpU9v9N+wiIpgLUYTJDs3Qu33w7t2rkuI3BXG1lSMFEoy6uSRORKESnkeXy7iLwqIhUCH5p/LDGYgFJ1LYPYWPj0U3jqKXjuuVBHZUxA+XO56n+BoyJSD1c871fgw4BGlQ3WlWQC6j//gW7doGJFd0nqsGGQP3+oozImoPw5105RVRWRjsBoVX1XRHoHOjB/WYvB5DpVOHgQLrrIdR+dey4MGOBKWxiTB/jTYvhLRB4B7gBmiMg5QNico9s8BpOr4uPhH/+ADh0gNRUuuQQGDrSkYPIUfxJDVyAJ6KWqu4EY4OWARpUNNo/B5IqTJ2HkSKhdG5YtgzvuCHVExoSMP7f23A18BBQVkRuA46r6QcAj85N1JZmztmMHXHklDBoErVvDxo2uVLaV7DV5lD9XJd0K/AR0AW4FlopI50AH5i8bfDZnrXhx9/vjj+HLLyEmJrTxGBNi/pxrPwZcrqp/AIhIKWAOMCWQgfnLWgwmR5Ytg+efd8mgUCFXItvqGxkD+DfGcE5aUvDY5+f7gsIGn022HD3q7rnctKlLDr/+6pZbUjDGy59D6jciMguY6HneFZgZuJCyxwafjd/mz3fF7uLj4e674cUXoWjRUEdlTNjx557PQ0WkE3CVZ9FYVZ0a2LD8Z11Jxi+q8NhjrmUwfz60ahXqiIwJW5nd87ka8ApQBVgHDFHVncEKzF/WlWQy9dVX0LgxlC7tSloULw4XXBDqqIwJa5mNFYwDvgJuwVVYHRWUiLLJupLMGe3ZA7fdBjfeCK+84pbFxFhSMMYPmSWGIqr6tqpuUtVXgIrZ3biItBWRTSKyRUQezmS9W0RERSQuu59hXUkmHVV3pVHNmjBlCjz9tBW9MyabMjukFhCRBvx9H4aCvs9VdWVmGxaRfMCbuHtGJwLLRGS6qm48Zb0iwAPA0px8AZvHYNJ5+WV46CF3q81334VatUIdkTERJ7PE8Bvwqs/z3T7PFWidxbYbA1tUNR5ARD4BOgIbT1nvWeBFYKifMadjLQZDaqorele8OPToAQUKQL9+Vt/ImBzK8JCqqlef5bbLATt8nicCTXxXEJGGQHlVnSEiGSYGEekL9AWoUCH9rSBs8DmP++UX+Ne/3BnCwoWu6N3994c6KmMiWsgmqnmqtL6Ku8dDplR1rKrGqWpcqVKl0r1mg895VEqK6zaqWxdWr4aePW2SmjG5JJDn2juB8j7PYzzL0hQBagMLxP2HvgSYLiIdVHW5vx9iXUl50PbtcMstsHw5dOwIY8ZA2bKhjsqYqBHIQ+oyoJqIVMIlhG7AbWkvquohoGTacxFZgJsr4XdSAOtKypNKlnTNxEmToEsXaykYk8v8qa4qnns9P+l5XkFEGmf1PlVNAfoDs4CfgU9VdYOIPCMiHc42cHBjjqrWlZQnLFniWgfHjrm5CIsXw623WlIwJgD8OdceA6TirkJ6BvgL+Ay4PKs3qupMTqmrpKpPZrBuKz9iSSclxf22FkMUO3IEnngCXnvNTVCLj3eXoFpCMCZg/Bl8bqKq/YDjAKp6AAiLu6EnJ7vf1mKIUnPnQp067s5q994L69fbvARjgsCfc+1kz2Q1Be/9GFIDGpWfrMUQxVThySfdP+5330GLFqGOyJg8w59D6hvAVKC0iAwHOgOPBzQqP6W1GCwxRJFp06BZs/RF7woWDHVUxuQp/tzz+SPgQeAF3Gzom1R1cqAD80dai8G6kqLA77+7weSbboL//MctK1fOkoIxIZDlubaIVACOAl/6LlPV7YEMzB/WlRQFVGHCBBg4EA4fdgXvHnww1FEZk6f5c0idgRtfEKAAUAnYBIR8FNC6kqLASy/Bww+77qN333VVUY0xIeXPHdzq+D731De6L2ARZYN1JUWo1FQ4cABKlIC77oLCheGee6zonTFhItu1kjzltptkuWIQWFdSBNq82d1W88Yb4eRJuPhiq4RqTJjxZ4xhkM/Tc4CGwK6ARZQNNo8hgqSkwKuvwlNPubLYI0fCOSGr4WiMyYQ/59pFfB6n4MYcPgtMONljLYYIsW0bdOoEK1fCzTfDm29CmTKhjsoYk4FMD6meiW1FVHVIkOLJFht8jhClSrnLTqdMcVVRjTFhLcO2vIicq6ongSuDGE+22OBzGPvhB7jhBjh61BW9W7TIkoIxESKzTt6fPL9Xi8h0EblDRDql/QQjuKxYV1IYOnzY3UHtqqtg3TpISHDLreidMRHDn0NqAWAfrrpq2nwGBT4PYFx+sa6kMDN7NvTt626k078/DB8ORYpk/T5jTFjJ7JBa2nNF0nr+TghpNKBR+cm6ksKIKjz9tLviaNEiuDJseyCNMVnILDHkAwqTPiGkCavEYC2GEJo6Fa64ws1HmDzZFb0rUCDUURljzkJmh9TfVPWZoEWSAzaPIYR273bdRZ99Bg89BCNG2H2XjYkSmSWGsB8ttBZDCKjCBx/Av//trjh6/nkYEpZXMxtjciizq5LaBC2KHLLB5xB48UVX3yg2FlavhkcesSabMVEmw0Oqqu4PZiA5YYPPQZKaCvv3Q8mS0KsXFC0Kd99tJS2MiVIR/T/bupKC4OefoXlz6NDBFb0rXdrdf9mSgjFRK6L/d1tXUgAlJ7vxg/r1XXK45x5LBsbkERF9SLWupADZts3dYnP1aujSBUaNcpejGmPyhIhODNZiCJDSpeHCC+Hzz101VGNMnhLRfQPWYshF338P7dq5S1ALFoQFCywpGJNHRUVisBbDWfjrLzdRrXlzN5awbZtbbkXvjMmzIjoxWFfSWfrmG6hdG8aMgQcecNVQa9YMdVTGmBCL6ENqWovBbhecA6qu+mmhQrB4MTRrFuqIjDFhIuITw7nnWq+H31TdgPJVV7mrjD791BW9O//8UEdmjAkjEd+VZN1IfvrtN3cHtc6dYeRIt6xMGUsKxpjTRPRhNSXFrkjKkiq89x4MGgRJSfDSS64AnjHGZMBaDNFuxAjo3Rvq1YM1a2DoUNtpxphMRfQRwloMGTh50hW9K1UK+vSBEiXcbytpYYzxQ0QfKdIGn42PjRvTF70rVcrdh9mSgjHGTwE9WohIWxHZJCJbROThM7w+SEQ2ishaEZkrIpdmZ/vWleQjORmeew4aNIDNm92kNUsGxpgcCNiRQ0TyAW8C1wOxQHcRiT1ltVVAnKrWBaYAL2XnM6wrySMhAeLi4IknoFMn12r45z/tOl5jTI4E8pSyMbBFVeNV9QTwCdDRdwVVna+qRz1PlwAx2fkA60ryuPhiNx9h2jSYONEVwTPGmBwKZGIoB+zweZ7oWZaR3sDXZ3pBRPqKyHIRWb5nzx7v8jzdlfTdd9C2LRw54orezZ/vxhWMMeYshUUntIjcDsQBL5/pdVUdq6pxqhpXqlQp7/I82ZX055/uDmqtWsEvv8D27aGOyBgTZQKZGHYC5X2ex3iWpSMi/wAeAzqoalJ2PiDPtRhmzIBatWDsWDdhbe1aK3pnjMl1gTysLgOqiUglXELoBtzmu4KINADeAtqq6h/Z/YA81WJQdZPVihaFKVOgSZNQR2SMiVIBSwyqmiIi/YFZQD5gnKpuEJFngOWqOh3XdVQYmCzuCprtqup3R3nUDz6rwuTJ0KIFXHKJe1y8OOTPH+rIjDFRLKCHVVWdCcw8ZdmTPo//cTbbT06O4hbDzp1w330wfTo88gg8/7xLDsYYE2BhMficU1HZlaQKb78NsbHw7bfwyivw7LOhjsoYk4dEfGKIuq6kF15wJSwaNnSDy4MH252IjDFBFdGH1ai5KunkSdi3z01M+9e/3IS1nj2tpIUxJiQi+sgTFV1J69fDFVekL3rXu7clBWNMyET00SeiWwwnTsDTT7suo/h4GDjQkoExJixE6mEViOAWw9atroWwfj3cdhu8/jqULBnqqIwxBojwFkPEDj5fcokbR/jyS/joI0sKxpiwEtGJIaK6kubPh2uu+bvo3Zw5cMMNoY7KGGNOE9GJISK6kg4dcpeftm7tupB27Mj6PcYYE0IRnRjCvsXw5Zduotq778LQoW5eQo0aoY7KGGMyFc6H1SyF9RiDKrz8MpQo4W6gExcX6oiMMcYv4XpY9UvYdSWpwqRJ0LIllCnjit5ddJEVvTPGRBTrSsotiYnuEtTu3WHUKLfs4ostKRhjIk64HFazTdVNFA55iyE11d0458EHXUAjR8KAASEOyhhjci5iWwwnT7rfIW8xvPCCu9Vm48awbp2bwWxF74wxESzUh9UcS052v0OSGFJSXNG7iy92l6KWLQt33QXuZkPGGBPRIjYxpKS430HvSlq79u8idz/84Ire9ewZ5CACJzk5mcTERI4fPx7qUIwxOVCgQAFiYmI47ywOjhGbGILeYkhKguHDXddR8eIwenRUFr1LTEykSJEiVKxYEbEWkDERRVXZt28fiYmJVKpUKcfbidjEkNZiCEpiiI+HG2+EjRvhjjvcAHOJEkH44OA7fvy4JQVjIpSIUKJECfbs2XNW24nYU96gdiWVKePGEWbOhA8+iNqkkMaSgjGRKzf+/0ZsYgh4V9LcufCPf/xd9O7bb+H66wP0YcYYEz4iNjEErMVw8CD06eOSwvbtbuKaCSoR4fbbb/c+T0lJoVSpUtwQ4Gq0d911F5UqVaJ+/frUq1ePuXPnel87ceIEAwcOpGrVqlSrVo2OHTuS6PO3sXv3brp160aVKlVo1KgR7dq1Y/Pmzad9xrFjx2jZsiUn0663Bl577TUKFCjAoUOHvMvGjx9P//790723VatWLF++HIDDhw9z9913ez+vVatWLF26NNvfOSkpia5du1K1alWaNGlCQkLCGdd7/fXXqV27NrVq1eK1117zLl+zZg3NmjWjTp063Hjjjfz555/e11544QWqVq1K9erVmTVrlnf5yJEjqVWrFrVr16Z79+7eCx1Gjx5N1apVERH27t3rXX/atGnUrVuX+vXrExcXx/fff58utj///JOYmBjv/jp69Cjt27enRo0a1KpVi4cffti77quvvkpsbCx169alTZs2bNu2zfva9u3bufbaa6lZsyaxsbHefdG8eXPq169P/fr1KVu2LDfddJP3PQsWLKB+/frUqlWLli1bZvkd//nPf1K9enVq165Nr169SE47w81kWwcPHqRz587UqFGDmjVr8uOPPwIwZMgQ5s2bd8Z/r7OmqhH106hRI1VV/b//UwXVjz/W3PPFF6plyqjmy6f60EOqR4/m4sYjw8aNG0MdghYqVEjr1aunRz37f+bMmVqvXj1t3759QD/3zjvv1MmTJ6uq6rx587Rq1are1wYPHqy9evXSlJQUVVUdN26cXn755ZqamqqpqanatGlT/e9//+tdf/Xq1bpw4cLTPmP06NH62muvpVvWuHFjveqqq3TcuHHeZe+9957269cv3XotW7bUZcuWqapq165d9eGHH9aTJ0+qqmp8fLx+9dVX2f7Ob775pt59992qqjpx4kS99dZbT1tn3bp1WqtWLT1y5IgmJydrmzZt9JdfflFV1bi4OF2wYIGqqr777rv6+OOPq6rqhg0btG7dunr8+HGNj4/XypUra0pKiiYmJmrFihW9/7ZdunTR9957T1VVV65cqVu3btVLL71U9+zZ4/38v/76S1NTU1VVdc2aNVq9evV08d1///3avXt37/46cuSIzps3T1VVk5KS9KqrrtKZM2eqqvt3PXLkiKqqjhkzJt33bdmypc6ePdv7mWnr+erUqZO+//77qqp64MABrVmzpm7btk1VVX///XdV1Uy/44wZM7x/M926ddMxY8Zkui1V1R49eujbb7/t/T4HDhxQVdWEhAS95pprTotR9cz/j4Hl6udxNmIHn3O9K0kVXn0VSpd2VVEbNcqlDUeugQNh9erc3Wb9+uBzwpmhdu3aMWPGDDp37szEiRPp3r07ixYtAuDIkSMMGDCA9evXk5yczLBhw+jYsSMJCQnccccdHDlyBHBnoFdccQULFixg2LBhlCxZkvXr19OoUSMmTJiQaV9ss2bN2LlzJ+DOQN977z22bt1KPs/kxZ49ezJu3DjmzZuHiHDeeedxzz33eN9fr169M273o48+4uOPP/Y+//XXXzl8+DBjxoxh+PDh9PTj0udff/2VpUuX8tFHH3GO58q4SpUq5egqlGnTpjFs2DAAOnfuTP/+/VHVdPvm559/pkmTJlxwwQUAtGzZks8//5wHH3yQzZs306JFCwCuueYarrvuOp599lmmTZtGt27dOP/886lUqRJVq1blp59+okKFCqSkpHDs2DHOO+88jh49StmyZQFo0KDBGWMsXLiw9/GRI0fSxbZixQp+//132rZt621NXXDBBVx99dUA5M+fn4YNG3pbd2nLAZo2bcqECRMA2LhxIykpKVxzzTWnfWaaP//8k3nz5vHee+8B8PHHH9OpUycqVKgAQOnSpb3rZvQd27Vr512ncePG3rgy2tahQ4dYuHAh48eP936f/J4yO5deein79u1j9+7dXHLJJWfcdzmVt7uSVGHCBNi1y01OmzwZli2zpBAGunXrxieffMLx48dZu3YtTZo08b42fPhwWrduzU8//cT8+fMZOnQoR44coXTp0nz77besXLmSSZMmcf/993vfs2rVKl577TU2btxIfHw8ixcvzvTzv/nmG2+XwZYtW6hQoQIXXnhhunXi4uLYsGGDN9lk5cSJE8THx1OxYkXvsk8++YRu3brRvHlzNm3axO+//57ldjZs2ED9+vW9SSozXbt29XaD+P588MEHAOzcuZPy5csDcO6551K0aFH27duXbhu1a9dm0aJF7Nu3j6NHjzJz5kx2eO4rUqtWLaZNmwbA5MmTvct9twsQExPDzp07KVeuHEOGDKFChQqUKVOGokWLcu2112b5PaZOnUqNGjVo374948aNAyA1NZXBgwfzyiuvZPi+gwcP8uWXX9KmTZvTXnv33Xe53jNuuHnzZooVK0anTp1o0KABQ4cOTdfdB/DFF1/Qpk0b79/B5s2bOXDgAK1ataJRo0beferPd0xOTubDDz+kbdu2mW5r69atlCpVip49e9KgQQP69OnjPfEBaNiwYZZ/yzmRd1sM27fDPffA11/Do4+6OQo+Gd/4d2YfKHXr1iUhIYGJEyemO8sCmD17NtOnT/ceEI4fP8727dspW7Ys/fv3Z/Xq1eTLly9dH3/jxo2JiYkBoH79+iQkJHDVVVed9rlDhw7l0UcfJTEx0duXm1v27t1LsWLF0i2bOHEiU6dO5ZxzzuGWW25h8uTJ9O/fP8PWTHavOJk0aVJOw/WqWbMmDz30ENdeey2FChVKl5TGjRvH/fffz7PPPkuHDh28Z7MZOXDgANOmTWPr1q0UK1aMLl26MGHChHRjSmdy8803c/PNN7Nw4UKeeOIJ5syZw5gxY2jXrp333/VUKSkpdO/enfvvv5/KlSune23ChAksX76c7777zrvuokWLWLVqFRUqVKBr166MHz+e3r17e98zceJE+vTpk277K1asYO7cuRw7doxmzZrRtGlTSpUqleV3vO+++2jRogXNmzfPdFspKSmsXLmSUaNG0aRJEx544AFGjBjBs88+C7iWxa5duzLddzkRsYkhx/MYUlPhf/+Dhx5yLYY33oB+/XI9PnP2OnTowJAhQ1iwYEG6s1hV5bPPPqN69erp1h82bBgXX3wxa9asITU1lQIFCnhfO//8872P8+XLR0raH9ApXn75ZTp37syoUaPo1asXK1asoEqVKmzfvp2//vqLIkWKeNddsWKFd0B8ypQpWX6fggULpptRvm7dOn755Rdv98WJEyeoVKkS/fv3p0SJEhw4cCDd+/fv30/JkiUpVqwYa9as4eTJk1m2Grp27cqmTZtOWz5o0CB69OhBuXLl2LFjBzExMaSkpHDo0CFKnOFy7N69e3sPko8++qj3YFyjRg1mz54NuLPeGTNmAHi3myYxMZFy5coxZ84cKlWqRKlSpQDo1KkTP/zwQ5aJIU2LFi2Ij49n7969/PjjjyxatIgxY8Zw+PBhTpw4QeHChRkxYgQAffv2pVq1agwcODDdNubMmcPw4cP57rvvvH8XMTEx1K9f35tAbrrpJpYsWeL9znv37uWnn35i6tSp3u3ExMRQokQJChUqRKFChWjRogVr1qwByPQ7Pv300+zZs4e33nory201b96cmJgYb4u5c+fO3u8H7qSoYMGCfu277Mh7XUkvvOASQbNmsH69q4QahTOYo0GvXr146qmnqFOnTrrl1113HaNGjcKNp7luInD9sWXKlOGcc87hww8/PK0rIDv69+9Pamoqs2bNolChQtx5550MGjTIu80PPviAo0eP0rp1a1q3bk1SUhJjx471vn/t2rXeMZE0F110ESdPnvQmh4kTJzJs2DASEhJISEhg165d7Nq1i23btnH55ZezePFidu/eDcDy5ctJSkqifPnyVKlShbi4OJ566invPkhISPAelH1NmjSJ1atXn/bTo0cPwCXf999/H3DJrXXr1mdslfzxxx+Au3Ln888/57bbbku3PDU1leeee847ztKhQwc++eQTkpKS2Lp1K7/88guNGzemQoUKLFmyhKNHj6KqzJ07l5o1a2b6b7Flyxbv91y5ciVJSUmUKFGCjz76iO3bt5OQkMArr7xCjx49vAfNxx9/nEOHDqW7ggrc38rdd9/N9OnT040JXH755Rw8eNA7MWzevHnExsZ6X58yZQo33HBDupONjh078v3335OSksLRo0dZunQpNWvWzPQ7vvPOO8yaNYuJEyd6x4cy29Yll1xC+fLlvcl97ty56eLavHkztWvXznT/5Yi/o9Th8pN2VdLcue6qJM8FEZlLTlb97Tf3eM8e1fffV/Vc5WDSC5erkk41f/5871VJR48e1b59+2rt2rU1NjbWu3zz5s1ap04drVu3rj744IPe7fi+V1W1X79+3qtEfPlelaSqOmXKFG3durWqqh4/flz79++vlStX1qpVq+oNN9yg27dv9667c+dO7dKli1auXFljY2O1Xbt2unnz5tM+o1evXvrtt9+qqmqlSpX0559/Tvf6v//9bx0xYoSqqn7xxRfaoEEDrVevnl555ZW6YsUK73qHDh3SPn36aOXKlbVWrVrasmVL/emnnzLZq2d27Ngx7dy5s1apUkUvv/xy/fXXX73f5/rrr/eud9VVV2nNmjW1bt26OmfOHO/y1157TatVq6bVqlXThx56yHv1kKrqc889p5UrV9bLLrvMe1WQquqTTz6p1atX11q1auntt9+ux48fV1XV119/XcuVK6f58uXTMmXKaO/evVVVdcSIERobG6v16tXTpk2b6qJFi077Hr5Xce3YsUMBrVGjhtarV0/r1avnvaqnTZs2Wrp0ae/yG2+80buN2bNna506dbR27dp65513alJSkve1li1b6tdff33a57700ktas2ZNrVWrlo4cOTLL75gvXz6tXLmy9/OffvrpLLe1atUqbdSokdapU0c7duyo+/fvV1XVEydOaI0aNTQ5Ofm0uM72qiRRTyaOFHFxcbp8+XJmz4brroPFi+GKKzJ5w+rVrujduee6ondWEjtTP//8c5ZncCbnVq5cyciRI/nwww9DHYqJcFOnTmXlypXe8QZfZ/p/LCIrVNWvewxHbB9KlmMMx4/D44/D5ZfDzp3uRjqWFEyINWzYkKuvvvqsurmMATdgPXjw4IBsO2IHnzO9Kik+Htq3h//7P7jzTjc/oXjxoMZnTEZ69eoV6hBMFOjSpUvAth2xiSHTweeyZaFCBXe95XXXBTOsqKCnTHAyxkSO3BgeCGhXkoi0FZFNIrJFRB4+w+vni8gkz+tLRaSiv9s+rcUwezZcfTUcPgwFCsCsWZYUcqBAgQLs27cvV/64jDHBpZ77MfhePZUTAWsxiEg+4E3gGiARWCYi01V1o89qvYEDqlpVRLoBLwJd/dl+Wosh/+H90HMwjB8P1au7WcyXXZaL3yRviYmJITEx8azruRtjQiPtDm5nI5BdSY2BLaoaDyAinwAdAd/E0BEY5nk8BRgtIqJ+nK6mpEAnPqNiu35wYK+bvfzEE661YHLsvPPOO6s7PxljIl8gE0M5YIfP80SgSUbrqGqKiBwCSgB7yULyCWUAozh5SVnyffuNq85mjDHmrEXE5aoi0ldElovI8rQujiuuFH59YTLJi5ZaUjDGmFwUyBbDTqC8z/MYz7IzrZMoIucCRYF9p6yDqo4FxoKb4AZQqxbUqlUqAGEbY0zeFsjEsAyoJiKVcAmgG3DbKetMB+4EfgQ6A/OyGl9YsWLFXhFJu+1SSfzodsoDbD84th9sH6Sx/eD47odL/X1TwBKDZ8ygPzALyAeMU9UNIvIMrmbHdOBd4EMR2QLsxyWPrLbrbSaIyHJ/p3hHM9sPju0H2wdpbD84Od0PAZ3gpqozgZmnLHvS5/FxIHDT94wxxmRbRAw+G2OMCZ5ITwxjs14lT7D94Nh+sH2QxvaDk6P9EHFlt40xxgRWpLcYjDHG5DJLDMYYY9KJiMQQyCqtkcSP/TBIRDaKyFoRmSsifl+3HCmy2gc+690iIioiUXnJoj/7QURu9fw9bBCRj4MdYzD48X+igojMF5FVnv8X7UIRZyCJyDgR+UNE1mfwuojIG559tFZEGma5UX/vARqqH9wciF+BykB+YA0Qe8o69wH/8zzuBkwKddwh2g9XAxd4Ht8bbfvBn33gWa8IsBBYAsSFOu4Q/S1UA1YBF3melw513CHaD2OBez2PY4GEUMcdgP3QAmgIrM/g9XbA14AATYGlWW0zEloM3iqtqnoCSKvS6qsj8L7n8RSgjUTfnWay3A+qOl9Vj3qeLsGVIYkm/vwtADyLK+F+PJjBBZE/++FfwJuqegBAVf8IcozB4M9+UOBCz+OiwK4gxhcUqroQN0E4Ix2BD9RZAhQTkTKZbTMSEsOZqrSWy2gdVU0B0qq0RhN/9oOv3rizhGiS5T7wNJPLq+qMYAYWZP78LVwGXCYii0VkiYi0DVp0wePPfhgG3C4iibjJtgOCE1pYye6xI3Jv7WkyJiK3A3FAy1DHEkwicg7wKnBXiEMJB+fiupNa4VqOC0WkjqoeDGVQIdAdGK+q/xGRZrgSPLVVNTXUgYWzSGgxZKdKK5lVaY1w/uwHROQfwGNAB1VNClJswZLVPigC1AYWiEgCrj91ehQOQPvzt5AITFfVZFXdCmzGJYpo4s9+6A18CqCqPwIFcIXl8hK/jh2+IiExeKu0ikh+3ODy9FPWSavSCn5WaY1AWe4HEWkAvIVLCtHYp5zpPlDVQ6paUlUrqmpF3DhLB1VdHppwA8af/xNf4FoLiEhJXNdSfBBjDAZ/9sN2oA2AiNTEJYa8dt/a6UAPz9VJTYFDqvpbZm8I+64kDVCV1kjj5354GSgMTPaMvW9X1Q4hCzqX+bkPop6f+2EWcK2IbAROAkNVNapa0X7uh8HA2yLyb9xA9F3RdtIoIhNxJwElPWMpTwHnAajq/3BjK+2ALcBRoGeW24yyfWSMMeYsRUJXkjHGmCCyxGCMMSYdSwzGGGPSscRgjDEmHUsMxhhj0rHEYMKSiJwUkdU+PxUzWfdwLnzeeBHZ6vmslZ5ZstndxjsiEut5/Ogpr/1wtjF6tpO2X9aLyJciUiyL9etHY0VRE1h2uaoJSyJyWFUL5/a6mWxjPPCVqk4RkWuBV1S17lls76xjymq7IvI+sFlVh2ey/l24CrP9czsWE72sxWAigogU9txjYqWIrBOR06qqikgZEVnoc0bd3LP8WhH50fPeySKS1QF7IVDV895Bnm2tF5GBnmWFRGSGiKzxLO/qWb5AROJEZARQ0BPHR57XDnt+fyIi7X1iHi8inUUkn4i8LCLLPDXz7/Zjt/yIpxiaiDT2fMdVIvKDiFT3zAZ+BujqiaWrJ/ZxIvKTZ90zVac1eV2oa4nbj/2c6Qc3W3e152cqbpb+hZ7XSuJmcaa1eA97fg8GHvM8zoernVQSd6Av5Fn+EPDkGT5vPNDZ87gLsBRoBKwDCuFmlG8AGgC3AG/7vLeo5/cCPPd/SIvJZ520GG8G3vc8zo+relkQ6As87ll+PrAcqHSGOA/7fL/JQFvP8wuBcz2P/wF85nl8FzDa5/3PA7d7HhfD1VAqFOp/b/sJr5+wL4lh8qxjqlo/7YmInAc8LyItgFTcmfLFwG6f9ywDxnnW/UJVV4tIS9wNWhZ7yoTkx51pn8nLIvI4rpZOb1yNnamqesQTw+dAc+Ab4D8i8iKu+2lRNr7X18DrInI+0BZYqKrHPN1XdUWks2e9oriid1tPeX9BEVnt+f4/A9/6rP++iFTDlX44L4PPvxboICJDPM8LABU82zIGiIBaScZ4/BMoBTRS1WRx1VML+K6gqgs9iaM9MF5EXgUOAN+qanc/PmOoqk5JeyIibc60kqpuFnffh3bAcyIyV1Wf8edLqOpxEVkAXAd0xd1cBtzdtQao6qwsNnFMVeuLyAW4GkH9gDdwNyear6o3ewbqF2TwfgFuUdVN/sRr8iYbYzCRoijwhycpXA2cdj9rcfe4/l1V3wbewd3ucAlwpYikjRkUEpHL/PzMRcBNInKBiBTCdQMtEpGywFFVnYArXHime+gme1ouZzIJV8gsrfUB7iB/b9p7ROQyz2eekbo79d0PDJa/S82nlVK+y2fVv3BdamlmAQPE03wSV5HXmHQsMZhI8REQJyLrgB7A/51hnVbAGhFZhTsbf11V9+AOlBNFZC2uG6mGPx+oqitxYw8/4cYc3lHVVUAd4CdPl85TwHNnePtYYG3a4PMpZuNuojRH3S0pwSWyjcBKcTd1f4ssWvSeWNbibkbzEvCC57v7vm8+EJs2+IxrWZzniW2D57kx6djlqsYYY9KxFoMxxph0LDEYY4xJxxKDMcaYdCwxGGOMSccSgzHGmHQsMRhjjEnHEoMxxph0/h+BCOrtu/bAqgAAAABJRU5ErkJggg==\n",
      "text/plain": [
       "<Figure size 432x288 with 1 Axes>"
      ]
     },
     "metadata": {
      "needs_background": "light"
     },
     "output_type": "display_data"
    }
   ],
   "source": [
    "y_train = train_df['label'].to_numpy()\n",
    "\n",
    "X_test = vectorizer.transform(test_df['body'])\n",
    "y_test = test_df['label'].to_numpy()\n",
    "\n",
    "reg = LogisticRegression(max_iter=200)\n",
    "\n",
    "eval_model(reg, X_train, y_train, X_test, y_test)"
   ]
  },
  {
   "cell_type": "code",
   "execution_count": 43,
   "id": "b2b0758b",
   "metadata": {},
   "outputs": [
    {
     "name": "stdout",
     "output_type": "stream",
     "text": [
      "Average accuracy score:  0.9584325611604243\n",
      "Average recall score:  0.928037194259147\n",
      "Average precision score:  0.9939380818358953\n"
     ]
    },
    {
     "data": {
      "image/png": "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\n",
      "text/plain": [
       "<Figure size 432x288 with 1 Axes>"
      ]
     },
     "metadata": {
      "needs_background": "light"
     },
     "output_type": "display_data"
    }
   ],
   "source": [
    "reg = LogisticRegression(max_iter=200, class_weight='balanced')\n",
    "eval_model(reg, X_train, y_train, X_test, y_test)"
   ]
  },
  {
   "cell_type": "code",
   "execution_count": 40,
   "id": "8416b46b",
   "metadata": {},
   "outputs": [
    {
     "name": "stdout",
     "output_type": "stream",
     "text": [
      "Average accuracy score:  0.9584325611604243\n",
      "Average recall score:  0.928037194259147\n",
      "Average precision score:  0.9939380818358953\n"
     ]
    },
    {
     "data": {
      "image/png": "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\n",
      "text/plain": [
       "<Figure size 432x288 with 1 Axes>"
      ]
     },
     "metadata": {
      "needs_background": "light"
     },
     "output_type": "display_data"
    }
   ],
   "source": [
    "under_sampled_df = under_sample_df(email_df,'label')\n",
    "train_df, test_df = get_train_test_df(under_sampled_df, 'label', 'spam', 0.8)\n",
    "\n",
    "vectorizer = CountVectorizer(min_df=10)\n",
    "\n",
    "X_train = vectorizer.fit_transform(train_df['body'])\n",
    "y_train = train_df['label'].to_numpy()\n",
    "\n",
    "X_test = vectorizer.transform(test_df['body'])\n",
    "y_test = test_df['label'].to_numpy()\n",
    "\n",
    "reg = LogisticRegression(max_iter=200)\n",
    "\n",
    "eval_model(reg, X_train, y_train, X_test, y_test)"
   ]
  },
  {
   "cell_type": "code",
   "execution_count": null,
   "id": "eee63264",
   "metadata": {},
   "outputs": [],
   "source": [
    "\n",
    "\n",
    "\n",
    "\n",
    "\n",
    "\n",
    "\n",
    "\n",
    "\n",
    "\n",
    "\n",
    "\n",
    "\n",
    "\n",
    "\n",
    "\n",
    "\n",
    "\n",
    "\n",
    "\n",
    "\n",
    "\n",
    "\n",
    "\n",
    "\n",
    "\n",
    "\n",
    "\n",
    "\n",
    "